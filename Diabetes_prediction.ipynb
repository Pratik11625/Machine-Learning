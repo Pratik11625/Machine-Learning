{
 "cells": [
  {
   "cell_type": "code",
   "execution_count": 1,
   "id": "6829d1bf",
   "metadata": {},
   "outputs": [],
   "source": [
    "from warnings import filterwarnings\n",
    "filterwarnings(\"ignore\")\n",
    "\n",
    "import os\n",
    "os.chdir(\"D:/py/\")\n",
    "\n",
    "import pandas as pd\n",
    "import matplotlib.pyplot as plt\n",
    "import seaborn as sns\n",
    "%matplotlib inline\n",
    "\n",
    "from sklearn.pipeline import Pipeline\n",
    "from sklearn.preprocessing import StandardScaler,OneHotEncoder,OrdinalEncoder,LabelEncoder\n",
    "from sklearn.compose import ColumnTransformer\n",
    "from sklearn.impute import SimpleImputer\n",
    "\n",
    "from sklearn.model_selection import train_test_split, RandomizedSearchCV\n",
    "\n",
    "from sklearn.linear_model import LogisticRegression\n",
    "from sklearn.tree import DecisionTreeClassifier\n",
    "from sklearn.ensemble import RandomForestClassifier\n",
    "from sklearn.ensemble import AdaBoostClassifier\n",
    "from sklearn.svm import SVC\n",
    "\n",
    "from sklearn.metrics import confusion_matrix, classification_report, accuracy_score"
   ]
  },
  {
   "cell_type": "code",
   "execution_count": 2,
   "id": "c195c5fe",
   "metadata": {
    "scrolled": true
   },
   "outputs": [
    {
     "data": {
      "text/html": [
       "<div>\n",
       "<style scoped>\n",
       "    .dataframe tbody tr th:only-of-type {\n",
       "        vertical-align: middle;\n",
       "    }\n",
       "\n",
       "    .dataframe tbody tr th {\n",
       "        vertical-align: top;\n",
       "    }\n",
       "\n",
       "    .dataframe thead th {\n",
       "        text-align: right;\n",
       "    }\n",
       "</style>\n",
       "<table border=\"1\" class=\"dataframe\">\n",
       "  <thead>\n",
       "    <tr style=\"text-align: right;\">\n",
       "      <th></th>\n",
       "      <th>EmployeeName</th>\n",
       "      <th>Patient_id</th>\n",
       "      <th>gender</th>\n",
       "      <th>D.O.B</th>\n",
       "      <th>hypertension</th>\n",
       "      <th>heart_disease</th>\n",
       "      <th>smoking_history</th>\n",
       "      <th>bmi</th>\n",
       "      <th>HbA1c_level</th>\n",
       "      <th>blood_glucose_level</th>\n",
       "      <th>diabetes</th>\n",
       "    </tr>\n",
       "  </thead>\n",
       "  <tbody>\n",
       "    <tr>\n",
       "      <th>0</th>\n",
       "      <td>NATHANIEL FORD</td>\n",
       "      <td>PT101</td>\n",
       "      <td>Female</td>\n",
       "      <td>05-11-1992</td>\n",
       "      <td>0</td>\n",
       "      <td>1</td>\n",
       "      <td>never</td>\n",
       "      <td>25.19</td>\n",
       "      <td>6.6</td>\n",
       "      <td>140</td>\n",
       "      <td>0</td>\n",
       "    </tr>\n",
       "    <tr>\n",
       "      <th>1</th>\n",
       "      <td>GARY JIMENEZ</td>\n",
       "      <td>PT102</td>\n",
       "      <td>Female</td>\n",
       "      <td>11-11-1992</td>\n",
       "      <td>0</td>\n",
       "      <td>0</td>\n",
       "      <td>No Info</td>\n",
       "      <td>27.32</td>\n",
       "      <td>6.6</td>\n",
       "      <td>80</td>\n",
       "      <td>0</td>\n",
       "    </tr>\n",
       "    <tr>\n",
       "      <th>2</th>\n",
       "      <td>ALBERT PARDINI</td>\n",
       "      <td>PT103</td>\n",
       "      <td>Male</td>\n",
       "      <td>13-11-1992</td>\n",
       "      <td>0</td>\n",
       "      <td>0</td>\n",
       "      <td>never</td>\n",
       "      <td>27.32</td>\n",
       "      <td>5.7</td>\n",
       "      <td>158</td>\n",
       "      <td>0</td>\n",
       "    </tr>\n",
       "    <tr>\n",
       "      <th>3</th>\n",
       "      <td>CHRISTOPHER CHONG</td>\n",
       "      <td>PT104</td>\n",
       "      <td>Female</td>\n",
       "      <td>05-12-1992</td>\n",
       "      <td>0</td>\n",
       "      <td>0</td>\n",
       "      <td>current</td>\n",
       "      <td>23.45</td>\n",
       "      <td>5.0</td>\n",
       "      <td>155</td>\n",
       "      <td>0</td>\n",
       "    </tr>\n",
       "    <tr>\n",
       "      <th>4</th>\n",
       "      <td>PATRICK GARDNER</td>\n",
       "      <td>PT105</td>\n",
       "      <td>Male</td>\n",
       "      <td>03-01-1989</td>\n",
       "      <td>1</td>\n",
       "      <td>1</td>\n",
       "      <td>current</td>\n",
       "      <td>20.14</td>\n",
       "      <td>4.8</td>\n",
       "      <td>155</td>\n",
       "      <td>0</td>\n",
       "    </tr>\n",
       "  </tbody>\n",
       "</table>\n",
       "</div>"
      ],
      "text/plain": [
       "        EmployeeName Patient_id  gender       D.O.B  hypertension  \\\n",
       "0     NATHANIEL FORD      PT101  Female  05-11-1992             0   \n",
       "1       GARY JIMENEZ      PT102  Female  11-11-1992             0   \n",
       "2     ALBERT PARDINI      PT103    Male  13-11-1992             0   \n",
       "3  CHRISTOPHER CHONG      PT104  Female  05-12-1992             0   \n",
       "4    PATRICK GARDNER      PT105    Male  03-01-1989             1   \n",
       "\n",
       "   heart_disease smoking_history    bmi  HbA1c_level  blood_glucose_level  \\\n",
       "0              1           never  25.19          6.6                  140   \n",
       "1              0         No Info  27.32          6.6                   80   \n",
       "2              0           never  27.32          5.7                  158   \n",
       "3              0         current  23.45          5.0                  155   \n",
       "4              1         current  20.14          4.8                  155   \n",
       "\n",
       "   diabetes  \n",
       "0         0  \n",
       "1         0  \n",
       "2         0  \n",
       "3         0  \n",
       "4         0  "
      ]
     },
     "execution_count": 2,
     "metadata": {},
     "output_type": "execute_result"
    }
   ],
   "source": [
    "df = pd.read_csv('Diabetes_prediction.csv')\n",
    "df.head()"
   ]
  },
  {
   "cell_type": "code",
   "execution_count": 3,
   "id": "eafe5b86",
   "metadata": {},
   "outputs": [
    {
     "data": {
      "text/plain": [
       "(100000, 11)"
      ]
     },
     "execution_count": 3,
     "metadata": {},
     "output_type": "execute_result"
    }
   ],
   "source": [
    "df.shape"
   ]
  },
  {
   "cell_type": "code",
   "execution_count": 4,
   "id": "7f103570",
   "metadata": {},
   "outputs": [
    {
     "name": "stdout",
     "output_type": "stream",
     "text": [
      "<class 'pandas.core.frame.DataFrame'>\n",
      "RangeIndex: 100000 entries, 0 to 99999\n",
      "Data columns (total 11 columns):\n",
      " #   Column               Non-Null Count   Dtype  \n",
      "---  ------               --------------   -----  \n",
      " 0   EmployeeName         100000 non-null  object \n",
      " 1   Patient_id           100000 non-null  object \n",
      " 2   gender               100000 non-null  object \n",
      " 3   D.O.B                100000 non-null  object \n",
      " 4   hypertension         100000 non-null  int64  \n",
      " 5   heart_disease        100000 non-null  int64  \n",
      " 6   smoking_history      100000 non-null  object \n",
      " 7   bmi                  100000 non-null  float64\n",
      " 8   HbA1c_level          100000 non-null  float64\n",
      " 9   blood_glucose_level  100000 non-null  int64  \n",
      " 10  diabetes             100000 non-null  int64  \n",
      "dtypes: float64(2), int64(4), object(5)\n",
      "memory usage: 8.4+ MB\n"
     ]
    }
   ],
   "source": [
    "df.info()"
   ]
  },
  {
   "cell_type": "code",
   "execution_count": 5,
   "id": "786fb7b8",
   "metadata": {},
   "outputs": [
    {
     "data": {
      "text/html": [
       "<div>\n",
       "<style scoped>\n",
       "    .dataframe tbody tr th:only-of-type {\n",
       "        vertical-align: middle;\n",
       "    }\n",
       "\n",
       "    .dataframe tbody tr th {\n",
       "        vertical-align: top;\n",
       "    }\n",
       "\n",
       "    .dataframe thead th {\n",
       "        text-align: right;\n",
       "    }\n",
       "</style>\n",
       "<table border=\"1\" class=\"dataframe\">\n",
       "  <thead>\n",
       "    <tr style=\"text-align: right;\">\n",
       "      <th></th>\n",
       "      <th>EmployeeName</th>\n",
       "      <th>Patient_id</th>\n",
       "      <th>gender</th>\n",
       "      <th>D.O.B</th>\n",
       "      <th>hypertension</th>\n",
       "      <th>heart_disease</th>\n",
       "      <th>smoking_history</th>\n",
       "      <th>bmi</th>\n",
       "      <th>HbA1c_level</th>\n",
       "      <th>blood_glucose_level</th>\n",
       "      <th>diabetes</th>\n",
       "    </tr>\n",
       "  </thead>\n",
       "  <tbody>\n",
       "    <tr>\n",
       "      <th>count</th>\n",
       "      <td>100000</td>\n",
       "      <td>100000</td>\n",
       "      <td>100000</td>\n",
       "      <td>100000</td>\n",
       "      <td>100000.00000</td>\n",
       "      <td>100000.000000</td>\n",
       "      <td>100000</td>\n",
       "      <td>100000.000000</td>\n",
       "      <td>100000.000000</td>\n",
       "      <td>100000.000000</td>\n",
       "      <td>100000.000000</td>\n",
       "    </tr>\n",
       "    <tr>\n",
       "      <th>unique</th>\n",
       "      <td>95094</td>\n",
       "      <td>100000</td>\n",
       "      <td>3</td>\n",
       "      <td>902</td>\n",
       "      <td>NaN</td>\n",
       "      <td>NaN</td>\n",
       "      <td>6</td>\n",
       "      <td>NaN</td>\n",
       "      <td>NaN</td>\n",
       "      <td>NaN</td>\n",
       "      <td>NaN</td>\n",
       "    </tr>\n",
       "    <tr>\n",
       "      <th>top</th>\n",
       "      <td>Kevin Lee</td>\n",
       "      <td>PT101</td>\n",
       "      <td>Female</td>\n",
       "      <td>24-09-1995</td>\n",
       "      <td>NaN</td>\n",
       "      <td>NaN</td>\n",
       "      <td>No Info</td>\n",
       "      <td>NaN</td>\n",
       "      <td>NaN</td>\n",
       "      <td>NaN</td>\n",
       "      <td>NaN</td>\n",
       "    </tr>\n",
       "    <tr>\n",
       "      <th>freq</th>\n",
       "      <td>9</td>\n",
       "      <td>1</td>\n",
       "      <td>58552</td>\n",
       "      <td>1248</td>\n",
       "      <td>NaN</td>\n",
       "      <td>NaN</td>\n",
       "      <td>35816</td>\n",
       "      <td>NaN</td>\n",
       "      <td>NaN</td>\n",
       "      <td>NaN</td>\n",
       "      <td>NaN</td>\n",
       "    </tr>\n",
       "    <tr>\n",
       "      <th>mean</th>\n",
       "      <td>NaN</td>\n",
       "      <td>NaN</td>\n",
       "      <td>NaN</td>\n",
       "      <td>NaN</td>\n",
       "      <td>0.07485</td>\n",
       "      <td>0.039420</td>\n",
       "      <td>NaN</td>\n",
       "      <td>27.320767</td>\n",
       "      <td>5.527507</td>\n",
       "      <td>138.058060</td>\n",
       "      <td>0.085000</td>\n",
       "    </tr>\n",
       "    <tr>\n",
       "      <th>std</th>\n",
       "      <td>NaN</td>\n",
       "      <td>NaN</td>\n",
       "      <td>NaN</td>\n",
       "      <td>NaN</td>\n",
       "      <td>0.26315</td>\n",
       "      <td>0.194593</td>\n",
       "      <td>NaN</td>\n",
       "      <td>6.636783</td>\n",
       "      <td>1.070672</td>\n",
       "      <td>40.708136</td>\n",
       "      <td>0.278883</td>\n",
       "    </tr>\n",
       "    <tr>\n",
       "      <th>min</th>\n",
       "      <td>NaN</td>\n",
       "      <td>NaN</td>\n",
       "      <td>NaN</td>\n",
       "      <td>NaN</td>\n",
       "      <td>0.00000</td>\n",
       "      <td>0.000000</td>\n",
       "      <td>NaN</td>\n",
       "      <td>10.010000</td>\n",
       "      <td>3.500000</td>\n",
       "      <td>80.000000</td>\n",
       "      <td>0.000000</td>\n",
       "    </tr>\n",
       "    <tr>\n",
       "      <th>25%</th>\n",
       "      <td>NaN</td>\n",
       "      <td>NaN</td>\n",
       "      <td>NaN</td>\n",
       "      <td>NaN</td>\n",
       "      <td>0.00000</td>\n",
       "      <td>0.000000</td>\n",
       "      <td>NaN</td>\n",
       "      <td>23.630000</td>\n",
       "      <td>4.800000</td>\n",
       "      <td>100.000000</td>\n",
       "      <td>0.000000</td>\n",
       "    </tr>\n",
       "    <tr>\n",
       "      <th>50%</th>\n",
       "      <td>NaN</td>\n",
       "      <td>NaN</td>\n",
       "      <td>NaN</td>\n",
       "      <td>NaN</td>\n",
       "      <td>0.00000</td>\n",
       "      <td>0.000000</td>\n",
       "      <td>NaN</td>\n",
       "      <td>27.320000</td>\n",
       "      <td>5.800000</td>\n",
       "      <td>140.000000</td>\n",
       "      <td>0.000000</td>\n",
       "    </tr>\n",
       "    <tr>\n",
       "      <th>75%</th>\n",
       "      <td>NaN</td>\n",
       "      <td>NaN</td>\n",
       "      <td>NaN</td>\n",
       "      <td>NaN</td>\n",
       "      <td>0.00000</td>\n",
       "      <td>0.000000</td>\n",
       "      <td>NaN</td>\n",
       "      <td>29.580000</td>\n",
       "      <td>6.200000</td>\n",
       "      <td>159.000000</td>\n",
       "      <td>0.000000</td>\n",
       "    </tr>\n",
       "    <tr>\n",
       "      <th>max</th>\n",
       "      <td>NaN</td>\n",
       "      <td>NaN</td>\n",
       "      <td>NaN</td>\n",
       "      <td>NaN</td>\n",
       "      <td>1.00000</td>\n",
       "      <td>1.000000</td>\n",
       "      <td>NaN</td>\n",
       "      <td>95.690000</td>\n",
       "      <td>9.000000</td>\n",
       "      <td>300.000000</td>\n",
       "      <td>1.000000</td>\n",
       "    </tr>\n",
       "  </tbody>\n",
       "</table>\n",
       "</div>"
      ],
      "text/plain": [
       "       EmployeeName Patient_id  gender       D.O.B  hypertension  \\\n",
       "count        100000     100000  100000      100000  100000.00000   \n",
       "unique        95094     100000       3         902           NaN   \n",
       "top       Kevin Lee      PT101  Female  24-09-1995           NaN   \n",
       "freq              9          1   58552        1248           NaN   \n",
       "mean            NaN        NaN     NaN         NaN       0.07485   \n",
       "std             NaN        NaN     NaN         NaN       0.26315   \n",
       "min             NaN        NaN     NaN         NaN       0.00000   \n",
       "25%             NaN        NaN     NaN         NaN       0.00000   \n",
       "50%             NaN        NaN     NaN         NaN       0.00000   \n",
       "75%             NaN        NaN     NaN         NaN       0.00000   \n",
       "max             NaN        NaN     NaN         NaN       1.00000   \n",
       "\n",
       "        heart_disease smoking_history            bmi    HbA1c_level  \\\n",
       "count   100000.000000          100000  100000.000000  100000.000000   \n",
       "unique            NaN               6            NaN            NaN   \n",
       "top               NaN         No Info            NaN            NaN   \n",
       "freq              NaN           35816            NaN            NaN   \n",
       "mean         0.039420             NaN      27.320767       5.527507   \n",
       "std          0.194593             NaN       6.636783       1.070672   \n",
       "min          0.000000             NaN      10.010000       3.500000   \n",
       "25%          0.000000             NaN      23.630000       4.800000   \n",
       "50%          0.000000             NaN      27.320000       5.800000   \n",
       "75%          0.000000             NaN      29.580000       6.200000   \n",
       "max          1.000000             NaN      95.690000       9.000000   \n",
       "\n",
       "        blood_glucose_level       diabetes  \n",
       "count         100000.000000  100000.000000  \n",
       "unique                  NaN            NaN  \n",
       "top                     NaN            NaN  \n",
       "freq                    NaN            NaN  \n",
       "mean             138.058060       0.085000  \n",
       "std               40.708136       0.278883  \n",
       "min               80.000000       0.000000  \n",
       "25%              100.000000       0.000000  \n",
       "50%              140.000000       0.000000  \n",
       "75%              159.000000       0.000000  \n",
       "max              300.000000       1.000000  "
      ]
     },
     "execution_count": 5,
     "metadata": {},
     "output_type": "execute_result"
    }
   ],
   "source": [
    "df.describe(include=\"all\")"
   ]
  },
  {
   "cell_type": "code",
   "execution_count": 6,
   "id": "3d4532d2",
   "metadata": {},
   "outputs": [
    {
     "data": {
      "text/plain": [
       "EmployeeName           0\n",
       "Patient_id             0\n",
       "gender                 0\n",
       "D.O.B                  0\n",
       "hypertension           0\n",
       "heart_disease          0\n",
       "smoking_history        0\n",
       "bmi                    0\n",
       "HbA1c_level            0\n",
       "blood_glucose_level    0\n",
       "diabetes               0\n",
       "dtype: int64"
      ]
     },
     "execution_count": 6,
     "metadata": {},
     "output_type": "execute_result"
    }
   ],
   "source": [
    "df.isna().sum()"
   ]
  },
  {
   "cell_type": "code",
   "execution_count": 7,
   "id": "96dd1f8f",
   "metadata": {},
   "outputs": [
    {
     "data": {
      "text/plain": [
       "EmployeeName            95094\n",
       "Patient_id             100000\n",
       "gender                      3\n",
       "D.O.B                     902\n",
       "hypertension                2\n",
       "heart_disease               2\n",
       "smoking_history             6\n",
       "bmi                      4247\n",
       "HbA1c_level                18\n",
       "blood_glucose_level        18\n",
       "diabetes                    2\n",
       "dtype: int64"
      ]
     },
     "execution_count": 7,
     "metadata": {},
     "output_type": "execute_result"
    }
   ],
   "source": [
    "df.nunique()"
   ]
  },
  {
   "cell_type": "code",
   "execution_count": 8,
   "id": "da8acf45",
   "metadata": {},
   "outputs": [
    {
     "data": {
      "text/plain": [
       "diabetes               1.000000\n",
       "blood_glucose_level    0.419558\n",
       "HbA1c_level            0.400660\n",
       "bmi                    0.214357\n",
       "hypertension           0.197823\n",
       "heart_disease          0.171727\n",
       "Name: diabetes, dtype: float64"
      ]
     },
     "execution_count": 8,
     "metadata": {},
     "output_type": "execute_result"
    }
   ],
   "source": [
    "df1=df.drop(['EmployeeName','gender','smoking_history','D.O.B','Patient_id'], axis=1)\n",
    "df1.corr()[\"diabetes\"].sort_values(ascending=False)"
   ]
  },
  {
   "cell_type": "code",
   "execution_count": null,
   "id": "11603be6",
   "metadata": {},
   "outputs": [],
   "source": []
  },
  {
   "cell_type": "code",
   "execution_count": 9,
   "id": "3b6c9473",
   "metadata": {},
   "outputs": [
    {
     "data": {
      "image/png": "[encoded data removed]",
      "text/plain": [
       "<Figure size 864x576 with 2 Axes>"
      ]
     },
     "metadata": {
      "needs_background": "light"
     },
     "output_type": "display_data"
    }
   ],
   "source": [
    "plt.figure(figsize=(12,8))\n",
    "sns.heatmap(df1.corr(), annot=True)\n",
    "plt.show()"
   ]
  },
  {
   "cell_type": "code",
   "execution_count": 10,
   "id": "b0bd8bc7",
   "metadata": {},
   "outputs": [
    {
     "data": {
      "image/png": "[encoded data removed]",
      "text/plain": [
       "<Figure size 864x576 with 1 Axes>"
      ]
     },
     "metadata": {
      "needs_background": "light"
     },
     "output_type": "display_data"
    }
   ],
   "source": [
    "plt.figure(figsize=(12,8))\n",
    "sns.scatterplot(x='diabetes', y='blood_glucose_level', data=df, markers= '*')\n",
    "plt.title('Diabetes vs Blood_Gul_level')\n",
    "plt.xlabel('Diabetes')\n",
    "plt.ylabel('Blood_glucose_level')\n",
    "plt.show()"
   ]
  },
  {
   "cell_type": "code",
   "execution_count": 11,
   "id": "e29af9b0",
   "metadata": {},
   "outputs": [
    {
     "data": {
      "image/png": "[encoded data removed]",
      "text/plain": [
       "<Figure size 864x576 with 1 Axes>"
      ]
     },
     "metadata": {
      "needs_background": "light"
     },
     "output_type": "display_data"
    }
   ],
   "source": [
    "plt.figure(figsize=(12,8))\n",
    "sns.scatterplot(x='diabetes', y='HbA1c_level', data=df, markers= '*')\n",
    "plt.title('Diabetes vs HbA1c_level')\n",
    "plt.xlabel('Diabetes')\n",
    "plt.ylabel('HbA1c_level')\n",
    "plt.show()"
   ]
  },
  {
   "cell_type": "code",
   "execution_count": 12,
   "id": "895d43e1",
   "metadata": {},
   "outputs": [
    {
     "data": {
      "image/png": "[encoded data removed]",
      "text/plain": [
       "<Figure size 864x576 with 1 Axes>"
      ]
     },
     "metadata": {
      "needs_background": "light"
     },
     "output_type": "display_data"
    }
   ],
   "source": [
    "plt.figure(figsize=(12,8))\n",
    "sns.scatterplot(x='HbA1c_level', y='blood_glucose_level', data=df, markers= '*')\n",
    "plt.title('HbA1c_level vs Blood_Gul_level')\n",
    "plt.xlabel('HbA1c_level')\n",
    "plt.ylabel('Blood_glucose_level')\n",
    "plt.show()"
   ]
  },
  {
   "cell_type": "code",
   "execution_count": 13,
   "id": "ca6484fd",
   "metadata": {},
   "outputs": [
    {
     "data": {
      "image/png": "[encoded data removed]",
      "text/plain": [
       "<Figure size 864x576 with 2 Axes>"
      ]
     },
     "metadata": {
      "needs_background": "light"
     },
     "output_type": "display_data"
    }
   ],
   "source": [
    "plt.figure(figsize=(12,8))\n",
    "pltt=pd.crosstab(df['smoking_history'], df['gender'])\n",
    "sns.heatmap(pltt,annot=True)\n",
    "plt.show()"
   ]
  },
  {
   "cell_type": "code",
   "execution_count": null,
   "id": "5aebc3ac",
   "metadata": {},
   "outputs": [],
   "source": []
  },
  {
   "cell_type": "markdown",
   "id": "667cd4f2",
   "metadata": {},
   "source": [
    "### define x and y"
   ]
  },
  {
   "cell_type": "code",
   "execution_count": 14,
   "id": "a3dc14d9",
   "metadata": {},
   "outputs": [],
   "source": [
    "x= df.drop(['diabetes','Patient_id','EmployeeName','D.O.B'],axis=1)\n",
    "y= df['diabetes']"
   ]
  },
  {
   "cell_type": "markdown",
   "id": "7034d259",
   "metadata": {},
   "source": [
    "## preprocessing using the pipleine"
   ]
  },
  {
   "cell_type": "code",
   "execution_count": 15,
   "id": "6564b4b2",
   "metadata": {},
   "outputs": [],
   "source": [
    "cat=[]\n",
    "con=[]\n",
    "for i in x.columns:\n",
    "    if x[i].dtypes=='object':\n",
    "        cat.append(i)\n",
    "    else:\n",
    "        con.append(i)"
   ]
  },
  {
   "cell_type": "code",
   "execution_count": 16,
   "id": "9ab4a525",
   "metadata": {},
   "outputs": [
    {
     "data": {
      "text/plain": [
       "['gender', 'smoking_history']"
      ]
     },
     "execution_count": 16,
     "metadata": {},
     "output_type": "execute_result"
    }
   ],
   "source": [
    "cat"
   ]
  },
  {
   "cell_type": "code",
   "execution_count": 17,
   "id": "f74d3a68",
   "metadata": {},
   "outputs": [
    {
     "data": {
      "text/plain": [
       "['hypertension', 'heart_disease', 'bmi', 'HbA1c_level', 'blood_glucose_level']"
      ]
     },
     "execution_count": 17,
     "metadata": {},
     "output_type": "execute_result"
    }
   ],
   "source": [
    "con"
   ]
  },
  {
   "cell_type": "code",
   "execution_count": 18,
   "id": "2f7497b9",
   "metadata": {},
   "outputs": [
    {
     "name": "stdout",
     "output_type": "stream",
     "text": [
      "Pipeline(steps=[('imputer', SimpleImputer(strategy='most_frequent')),\n",
      "                ('encoder', OrdinalEncoder())])\n",
      "______________________________\n",
      "Pipeline(steps=[('imputer', SimpleImputer()), ('scaler', StandardScaler())])\n",
      "______________________________\n"
     ]
    },
    {
     "data": {
      "text/html": [
       "<style>#sk-container-id-1 {color: black;}#sk-container-id-1 pre{padding: 0;}#sk-container-id-1 div.sk-toggleable {background-color: white;}#sk-container-id-1 label.sk-toggleable__label {cursor: pointer;display: block;width: 100%;margin-bottom: 0;padding: 0.3em;box-sizing: border-box;text-align: center;}#sk-container-id-1 label.sk-toggleable__label-arrow:before {content: \"▸\";float: left;margin-right: 0.25em;color: #696969;}#sk-container-id-1 label.sk-toggleable__label-arrow:hover:before {color: black;}#sk-container-id-1 div.sk-estimator:hover label.sk-toggleable__label-arrow:before {color: black;}#sk-container-id-1 div.sk-toggleable__content {max-height: 0;max-width: 0;overflow: hidden;text-align: left;background-color: #f0f8ff;}#sk-container-id-1 div.sk-toggleable__content pre {margin: 0.2em;color: black;border-radius: 0.25em;background-color: #f0f8ff;}#sk-container-id-1 input.sk-toggleable__control:checked~div.sk-toggleable__content {max-height: 200px;max-width: 100%;overflow: auto;}#sk-container-id-1 input.sk-toggleable__control:checked~label.sk-toggleable__label-arrow:before {content: \"▾\";}#sk-container-id-1 div.sk-estimator input.sk-toggleable__control:checked~label.sk-toggleable__label {background-color: #d4ebff;}#sk-container-id-1 div.sk-label input.sk-toggleable__control:checked~label.sk-toggleable__label {background-color: #d4ebff;}#sk-container-id-1 input.sk-hidden--visually {border: 0;clip: rect(1px 1px 1px 1px);clip: rect(1px, 1px, 1px, 1px);height: 1px;margin: -1px;overflow: hidden;padding: 0;position: absolute;width: 1px;}#sk-container-id-1 div.sk-estimator {font-family: monospace;background-color: #f0f8ff;border: 1px dotted black;border-radius: 0.25em;box-sizing: border-box;margin-bottom: 0.5em;}#sk-container-id-1 div.sk-estimator:hover {background-color: #d4ebff;}#sk-container-id-1 div.sk-parallel-item::after {content: \"\";width: 100%;border-bottom: 1px solid gray;flex-grow: 1;}#sk-container-id-1 div.sk-label:hover label.sk-toggleable__label {background-color: #d4ebff;}#sk-container-id-1 div.sk-serial::before {content: \"\";position: absolute;border-left: 1px solid gray;box-sizing: border-box;top: 0;bottom: 0;left: 50%;z-index: 0;}#sk-container-id-1 div.sk-serial {display: flex;flex-direction: column;align-items: center;background-color: white;padding-right: 0.2em;padding-left: 0.2em;position: relative;}#sk-container-id-1 div.sk-item {position: relative;z-index: 1;}#sk-container-id-1 div.sk-parallel {display: flex;align-items: stretch;justify-content: center;background-color: white;position: relative;}#sk-container-id-1 div.sk-item::before, #sk-container-id-1 div.sk-parallel-item::before {content: \"\";position: absolute;border-left: 1px solid gray;box-sizing: border-box;top: 0;bottom: 0;left: 50%;z-index: -1;}#sk-container-id-1 div.sk-parallel-item {display: flex;flex-direction: column;z-index: 1;position: relative;background-color: white;}#sk-container-id-1 div.sk-parallel-item:first-child::after {align-self: flex-end;width: 50%;}#sk-container-id-1 div.sk-parallel-item:last-child::after {align-self: flex-start;width: 50%;}#sk-container-id-1 div.sk-parallel-item:only-child::after {width: 0;}#sk-container-id-1 div.sk-dashed-wrapped {border: 1px dashed gray;margin: 0 0.4em 0.5em 0.4em;box-sizing: border-box;padding-bottom: 0.4em;background-color: white;}#sk-container-id-1 div.sk-label label {font-family: monospace;font-weight: bold;display: inline-block;line-height: 1.2em;}#sk-container-id-1 div.sk-label-container {text-align: center;}#sk-container-id-1 div.sk-container {/* jupyter's `normalize.less` sets `[hidden] { display: none; }` but bootstrap.min.css set `[hidden] { display: none !important; }` so we also need the `!important` here to be able to override the default hidden behavior on the sphinx rendered scikit-learn.org. See: https://github.com/scikit-learn/scikit-learn/issues/21755 */display: inline-block !important;position: relative;}#sk-container-id-1 div.sk-text-repr-fallback {display: none;}</style><div id=\"sk-container-id-1\" class=\"sk-top-container\"><div class=\"sk-text-repr-fallback\"><pre>ColumnTransformer(transformers=[(&#x27;cat_pipp&#x27;,\n",
       "                                 Pipeline(steps=[(&#x27;imputer&#x27;,\n",
       "                                                  SimpleImputer(strategy=&#x27;most_frequent&#x27;)),\n",
       "                                                 (&#x27;encoder&#x27;,\n",
       "                                                  OrdinalEncoder())]),\n",
       "                                 [&#x27;gender&#x27;, &#x27;smoking_history&#x27;]),\n",
       "                                (&#x27;con_pipp&#x27;,\n",
       "                                 Pipeline(steps=[(&#x27;imputer&#x27;, SimpleImputer()),\n",
       "                                                 (&#x27;scaler&#x27;, StandardScaler())]),\n",
       "                                 [&#x27;hypertension&#x27;, &#x27;heart_disease&#x27;, &#x27;bmi&#x27;,\n",
       "                                  &#x27;HbA1c_level&#x27;, &#x27;blood_glucose_level&#x27;])])</pre><b>In a Jupyter environment, please rerun this cell to show the HTML representation or trust the notebook. <br />On GitHub, the HTML representation is unable to render, please try loading this page with nbviewer.org.</b></div><div class=\"sk-container\" hidden><div class=\"sk-item sk-dashed-wrapped\"><div class=\"sk-label-container\"><div class=\"sk-label sk-toggleable\"><input class=\"sk-toggleable__control sk-hidden--visually\" id=\"sk-estimator-id-1\" type=\"checkbox\" ><label for=\"sk-estimator-id-1\" class=\"sk-toggleable__label sk-toggleable__label-arrow\">ColumnTransformer</label><div class=\"sk-toggleable__content\"><pre>ColumnTransformer(transformers=[(&#x27;cat_pipp&#x27;,\n",
       "                                 Pipeline(steps=[(&#x27;imputer&#x27;,\n",
       "                                                  SimpleImputer(strategy=&#x27;most_frequent&#x27;)),\n",
       "                                                 (&#x27;encoder&#x27;,\n",
       "                                                  OrdinalEncoder())]),\n",
       "                                 [&#x27;gender&#x27;, &#x27;smoking_history&#x27;]),\n",
       "                                (&#x27;con_pipp&#x27;,\n",
       "                                 Pipeline(steps=[(&#x27;imputer&#x27;, SimpleImputer()),\n",
       "                                                 (&#x27;scaler&#x27;, StandardScaler())]),\n",
       "                                 [&#x27;hypertension&#x27;, &#x27;heart_disease&#x27;, &#x27;bmi&#x27;,\n",
       "                                  &#x27;HbA1c_level&#x27;, &#x27;blood_glucose_level&#x27;])])</pre></div></div></div><div class=\"sk-parallel\"><div class=\"sk-parallel-item\"><div class=\"sk-item\"><div class=\"sk-label-container\"><div class=\"sk-label sk-toggleable\"><input class=\"sk-toggleable__control sk-hidden--visually\" id=\"sk-estimator-id-2\" type=\"checkbox\" ><label for=\"sk-estimator-id-2\" class=\"sk-toggleable__label sk-toggleable__label-arrow\">cat_pipp</label><div class=\"sk-toggleable__content\"><pre>[&#x27;gender&#x27;, &#x27;smoking_history&#x27;]</pre></div></div></div><div class=\"sk-serial\"><div class=\"sk-item\"><div class=\"sk-serial\"><div class=\"sk-item\"><div class=\"sk-estimator sk-toggleable\"><input class=\"sk-toggleable__control sk-hidden--visually\" id=\"sk-estimator-id-3\" type=\"checkbox\" ><label for=\"sk-estimator-id-3\" class=\"sk-toggleable__label sk-toggleable__label-arrow\">SimpleImputer</label><div class=\"sk-toggleable__content\"><pre>SimpleImputer(strategy=&#x27;most_frequent&#x27;)</pre></div></div></div><div class=\"sk-item\"><div class=\"sk-estimator sk-toggleable\"><input class=\"sk-toggleable__control sk-hidden--visually\" id=\"sk-estimator-id-4\" type=\"checkbox\" ><label for=\"sk-estimator-id-4\" class=\"sk-toggleable__label sk-toggleable__label-arrow\">OrdinalEncoder</label><div class=\"sk-toggleable__content\"><pre>OrdinalEncoder()</pre></div></div></div></div></div></div></div></div><div class=\"sk-parallel-item\"><div class=\"sk-item\"><div class=\"sk-label-container\"><div class=\"sk-label sk-toggleable\"><input class=\"sk-toggleable__control sk-hidden--visually\" id=\"sk-estimator-id-5\" type=\"checkbox\" ><label for=\"sk-estimator-id-5\" class=\"sk-toggleable__label sk-toggleable__label-arrow\">con_pipp</label><div class=\"sk-toggleable__content\"><pre>[&#x27;hypertension&#x27;, &#x27;heart_disease&#x27;, &#x27;bmi&#x27;, &#x27;HbA1c_level&#x27;, &#x27;blood_glucose_level&#x27;]</pre></div></div></div><div class=\"sk-serial\"><div class=\"sk-item\"><div class=\"sk-serial\"><div class=\"sk-item\"><div class=\"sk-estimator sk-toggleable\"><input class=\"sk-toggleable__control sk-hidden--visually\" id=\"sk-estimator-id-6\" type=\"checkbox\" ><label for=\"sk-estimator-id-6\" class=\"sk-toggleable__label sk-toggleable__label-arrow\">SimpleImputer</label><div class=\"sk-toggleable__content\"><pre>SimpleImputer()</pre></div></div></div><div class=\"sk-item\"><div class=\"sk-estimator sk-toggleable\"><input class=\"sk-toggleable__control sk-hidden--visually\" id=\"sk-estimator-id-7\" type=\"checkbox\" ><label for=\"sk-estimator-id-7\" class=\"sk-toggleable__label sk-toggleable__label-arrow\">StandardScaler</label><div class=\"sk-toggleable__content\"><pre>StandardScaler()</pre></div></div></div></div></div></div></div></div></div></div></div></div>"
      ],
      "text/plain": [
       "ColumnTransformer(transformers=[('cat_pipp',\n",
       "                                 Pipeline(steps=[('imputer',\n",
       "                                                  SimpleImputer(strategy='most_frequent')),\n",
       "                                                 ('encoder',\n",
       "                                                  OrdinalEncoder())]),\n",
       "                                 ['gender', 'smoking_history']),\n",
       "                                ('con_pipp',\n",
       "                                 Pipeline(steps=[('imputer', SimpleImputer()),\n",
       "                                                 ('scaler', StandardScaler())]),\n",
       "                                 ['hypertension', 'heart_disease', 'bmi',\n",
       "                                  'HbA1c_level', 'blood_glucose_level'])])"
      ]
     },
     "execution_count": 18,
     "metadata": {},
     "output_type": "execute_result"
    }
   ],
   "source": [
    "cat_pip=Pipeline(steps=([('imputer',SimpleImputer(strategy='most_frequent')),('encoder',OrdinalEncoder())]))\n",
    "print(cat_pip)\n",
    "print('_'*30)\n",
    "\n",
    "con_pip=Pipeline(steps=([('imputer',SimpleImputer(strategy='mean')),('scaler',StandardScaler())]))\n",
    "print(con_pip)\n",
    "print('_'*30)\n",
    "\n",
    "pre=ColumnTransformer([('cat_pipp',cat_pip,cat),('con_pipp',con_pip,con)])\n",
    "pre\n"
   ]
  },
  {
   "cell_type": "code",
   "execution_count": 19,
   "id": "0756753c",
   "metadata": {},
   "outputs": [
    {
     "data": {
      "text/html": [
       "<div>\n",
       "<style scoped>\n",
       "    .dataframe tbody tr th:only-of-type {\n",
       "        vertical-align: middle;\n",
       "    }\n",
       "\n",
       "    .dataframe tbody tr th {\n",
       "        vertical-align: top;\n",
       "    }\n",
       "\n",
       "    .dataframe thead th {\n",
       "        text-align: right;\n",
       "    }\n",
       "</style>\n",
       "<table border=\"1\" class=\"dataframe\">\n",
       "  <thead>\n",
       "    <tr style=\"text-align: right;\">\n",
       "      <th></th>\n",
       "      <th>cat_pipp__gender</th>\n",
       "      <th>cat_pipp__smoking_history</th>\n",
       "      <th>con_pipp__hypertension</th>\n",
       "      <th>con_pipp__heart_disease</th>\n",
       "      <th>con_pipp__bmi</th>\n",
       "      <th>con_pipp__HbA1c_level</th>\n",
       "      <th>con_pipp__blood_glucose_level</th>\n",
       "    </tr>\n",
       "  </thead>\n",
       "  <tbody>\n",
       "    <tr>\n",
       "      <th>0</th>\n",
       "      <td>0.0</td>\n",
       "      <td>4.0</td>\n",
       "      <td>-0.284439</td>\n",
       "      <td>4.936379</td>\n",
       "      <td>-0.321056</td>\n",
       "      <td>1.001706</td>\n",
       "      <td>0.047704</td>\n",
       "    </tr>\n",
       "    <tr>\n",
       "      <th>1</th>\n",
       "      <td>0.0</td>\n",
       "      <td>0.0</td>\n",
       "      <td>-0.284439</td>\n",
       "      <td>-0.202578</td>\n",
       "      <td>-0.000116</td>\n",
       "      <td>1.001706</td>\n",
       "      <td>-1.426210</td>\n",
       "    </tr>\n",
       "    <tr>\n",
       "      <th>2</th>\n",
       "      <td>1.0</td>\n",
       "      <td>4.0</td>\n",
       "      <td>-0.284439</td>\n",
       "      <td>-0.202578</td>\n",
       "      <td>-0.000116</td>\n",
       "      <td>0.161108</td>\n",
       "      <td>0.489878</td>\n",
       "    </tr>\n",
       "    <tr>\n",
       "      <th>3</th>\n",
       "      <td>0.0</td>\n",
       "      <td>1.0</td>\n",
       "      <td>-0.284439</td>\n",
       "      <td>-0.202578</td>\n",
       "      <td>-0.583232</td>\n",
       "      <td>-0.492690</td>\n",
       "      <td>0.416183</td>\n",
       "    </tr>\n",
       "    <tr>\n",
       "      <th>4</th>\n",
       "      <td>1.0</td>\n",
       "      <td>1.0</td>\n",
       "      <td>3.515687</td>\n",
       "      <td>4.936379</td>\n",
       "      <td>-1.081970</td>\n",
       "      <td>-0.679490</td>\n",
       "      <td>0.416183</td>\n",
       "    </tr>\n",
       "    <tr>\n",
       "      <th>...</th>\n",
       "      <td>...</td>\n",
       "      <td>...</td>\n",
       "      <td>...</td>\n",
       "      <td>...</td>\n",
       "      <td>...</td>\n",
       "      <td>...</td>\n",
       "      <td>...</td>\n",
       "    </tr>\n",
       "    <tr>\n",
       "      <th>99995</th>\n",
       "      <td>0.0</td>\n",
       "      <td>0.0</td>\n",
       "      <td>-0.284439</td>\n",
       "      <td>-0.202578</td>\n",
       "      <td>-0.000116</td>\n",
       "      <td>0.628107</td>\n",
       "      <td>-1.180558</td>\n",
       "    </tr>\n",
       "    <tr>\n",
       "      <th>99996</th>\n",
       "      <td>0.0</td>\n",
       "      <td>0.0</td>\n",
       "      <td>-0.284439</td>\n",
       "      <td>-0.202578</td>\n",
       "      <td>-1.499343</td>\n",
       "      <td>0.908306</td>\n",
       "      <td>-0.934905</td>\n",
       "    </tr>\n",
       "    <tr>\n",
       "      <th>99997</th>\n",
       "      <td>1.0</td>\n",
       "      <td>3.0</td>\n",
       "      <td>-0.284439</td>\n",
       "      <td>-0.202578</td>\n",
       "      <td>0.076729</td>\n",
       "      <td>0.161108</td>\n",
       "      <td>0.416183</td>\n",
       "    </tr>\n",
       "    <tr>\n",
       "      <th>99998</th>\n",
       "      <td>0.0</td>\n",
       "      <td>4.0</td>\n",
       "      <td>-0.284439</td>\n",
       "      <td>-0.202578</td>\n",
       "      <td>1.220361</td>\n",
       "      <td>-1.426688</td>\n",
       "      <td>-0.934905</td>\n",
       "    </tr>\n",
       "    <tr>\n",
       "      <th>99999</th>\n",
       "      <td>0.0</td>\n",
       "      <td>1.0</td>\n",
       "      <td>-0.284439</td>\n",
       "      <td>-0.202578</td>\n",
       "      <td>-0.736922</td>\n",
       "      <td>1.001706</td>\n",
       "      <td>-1.180558</td>\n",
       "    </tr>\n",
       "  </tbody>\n",
       "</table>\n",
       "<p>100000 rows × 7 columns</p>\n",
       "</div>"
      ],
      "text/plain": [
       "       cat_pipp__gender  cat_pipp__smoking_history  con_pipp__hypertension  \\\n",
       "0                   0.0                        4.0               -0.284439   \n",
       "1                   0.0                        0.0               -0.284439   \n",
       "2                   1.0                        4.0               -0.284439   \n",
       "3                   0.0                        1.0               -0.284439   \n",
       "4                   1.0                        1.0                3.515687   \n",
       "...                 ...                        ...                     ...   \n",
       "99995               0.0                        0.0               -0.284439   \n",
       "99996               0.0                        0.0               -0.284439   \n",
       "99997               1.0                        3.0               -0.284439   \n",
       "99998               0.0                        4.0               -0.284439   \n",
       "99999               0.0                        1.0               -0.284439   \n",
       "\n",
       "       con_pipp__heart_disease  con_pipp__bmi  con_pipp__HbA1c_level  \\\n",
       "0                     4.936379      -0.321056               1.001706   \n",
       "1                    -0.202578      -0.000116               1.001706   \n",
       "2                    -0.202578      -0.000116               0.161108   \n",
       "3                    -0.202578      -0.583232              -0.492690   \n",
       "4                     4.936379      -1.081970              -0.679490   \n",
       "...                        ...            ...                    ...   \n",
       "99995                -0.202578      -0.000116               0.628107   \n",
       "99996                -0.202578      -1.499343               0.908306   \n",
       "99997                -0.202578       0.076729               0.161108   \n",
       "99998                -0.202578       1.220361              -1.426688   \n",
       "99999                -0.202578      -0.736922               1.001706   \n",
       "\n",
       "       con_pipp__blood_glucose_level  \n",
       "0                           0.047704  \n",
       "1                          -1.426210  \n",
       "2                           0.489878  \n",
       "3                           0.416183  \n",
       "4                           0.416183  \n",
       "...                              ...  \n",
       "99995                      -1.180558  \n",
       "99996                      -0.934905  \n",
       "99997                       0.416183  \n",
       "99998                      -0.934905  \n",
       "99999                      -1.180558  \n",
       "\n",
       "[100000 rows x 7 columns]"
      ]
     },
     "execution_count": 19,
     "metadata": {},
     "output_type": "execute_result"
    }
   ],
   "source": [
    "x_feat=pd.DataFrame(pre.fit_transform(x),columns=pre.get_feature_names_out())\n",
    "x_feat"
   ]
  },
  {
   "cell_type": "code",
   "execution_count": 20,
   "id": "566db1d4",
   "metadata": {},
   "outputs": [],
   "source": [
    "#split\n",
    "x_train, x_test, y_train, y_test = train_test_split(x_feat, y, test_size = 0.23, random_state = 62)"
   ]
  },
  {
   "cell_type": "code",
   "execution_count": 21,
   "id": "3192add0",
   "metadata": {},
   "outputs": [
    {
     "name": "stdout",
     "output_type": "stream",
     "text": [
      "LogisticRegression()\n",
      "accuracy_score_train =  0.9596233766233766\n",
      "accuracy_score_test =  0.959304347826087\n",
      "------------------------------------------------------------\n",
      "DecisionTreeClassifier(max_depth=4)\n",
      "accuracy_score_train =  0.9718441558441558\n",
      "accuracy_score_test =  0.9719565217391304\n",
      "------------------------------------------------------------\n",
      "AdaBoostClassifier(estimator=DecisionTreeClassifier(max_depth=4),\n",
      "                   random_state=14)\n",
      "accuracy_score_train =  0.9740909090909091\n",
      "accuracy_score_test =  0.9701739130434782\n",
      "------------------------------------------------------------\n",
      "RandomForestClassifier(random_state=23)\n",
      "accuracy_score_train =  0.9957012987012988\n",
      "accuracy_score_test =  0.9676521739130435\n",
      "------------------------------------------------------------\n",
      "SVC()\n",
      "accuracy_score_train =  0.9624675324675325\n",
      "accuracy_score_test =  0.9629130434782609\n",
      "------------------------------------------------------------\n"
     ]
    }
   ],
   "source": [
    "#model\n",
    "lo =LogisticRegression()\n",
    "dt=DecisionTreeClassifier(max_depth= 4)\n",
    "ada=AdaBoostClassifier(dt,random_state= 14)\n",
    "rdf=RandomForestClassifier(random_state= 23)\n",
    "svc=SVC()\n",
    "\n",
    "list1 = [lo,dt,ada,rdf,svc]\n",
    "for i in list1:\n",
    "    i.fit(x_train,y_train)\n",
    "    y_pred_train = i.predict(x_train)\n",
    "    y_pred_test = i.predict(x_test)\n",
    "    \n",
    "    acc = accuracy_score(y_pred_train,y_train)\n",
    "    acc1 = accuracy_score(y_pred_test,y_test)\n",
    "    \n",
    "    print(i)\n",
    "    print('accuracy_score_train = ', acc)\n",
    "    print('accuracy_score_test = ', acc1) \n",
    "    print('--'*30) "
   ]
  },
  {
   "cell_type": "code",
   "execution_count": null,
   "id": "208b816b",
   "metadata": {},
   "outputs": [],
   "source": []
  },
  {
   "cell_type": "code",
   "execution_count": 22,
   "id": "b710b0b4",
   "metadata": {},
   "outputs": [
    {
     "name": "stdout",
     "output_type": "stream",
     "text": [
      "Best Parameters: {'n_estimators': 113, 'min_samples_split': 2, 'min_samples_leaf': 5, 'max_depth': 5, 'criterion': 'gini'}\n",
      "Best Estimator: RandomForestClassifier(max_depth=5, min_samples_leaf=5, n_estimators=113,\n",
      "                       random_state=23)\n",
      "RandomForestClassifier(random_state=23)\n",
      "accuracy_score_train =  0.9957012987012988\n",
      "accuracy_score_test =  0.9676521739130435\n",
      "------------------------------------------------------------\n",
      "RandomForestClassifier(max_depth=5, min_samples_leaf=5, n_estimators=113,\n",
      "                       random_state=23)\n",
      "accuracy_score_train =  0.9718441558441558\n",
      "accuracy_score_test =  0.9719565217391304\n",
      "------------------------------------------------------------\n"
     ]
    }
   ],
   "source": [
    "#tuning\n",
    "grid = {\n",
    "    'n_estimators': range(1, 250),\n",
    "    'criterion': ['gini', 'entropy'],\n",
    "    'max_depth': range(1, 100),\n",
    "    'min_samples_split': range(2, 10),  \n",
    "    'min_samples_leaf': range(1, 10)\n",
    "}\n",
    "\n",
    "# Initialize RandomizedSearchCV\n",
    "rs = RandomizedSearchCV(rdf, param_distributions=grid, cv=3)\n",
    "\n",
    "# Fit the RandomizedSearchCV instance\n",
    "rs.fit(x_train, y_train)\n",
    "\n",
    "# Get the best parameters\n",
    "best_params = rs.best_params_\n",
    "print(\"Best Parameters:\", best_params)\n",
    "\n",
    "# Get the best estimator\n",
    "rdf1 = rs.best_estimator_\n",
    "print(\"Best Estimator:\", rdf1)\n",
    "\n",
    "list2=[rdf,rdf1]\n",
    "for i in list2:\n",
    "    i.fit(x_train,y_train)\n",
    "    y_pred_train = i.predict(x_train)\n",
    "    y_pred_test = i.predict(x_test)\n",
    "    \n",
    "    acc = accuracy_score(y_pred_train,y_train)\n",
    "    acc1 = accuracy_score(y_pred_test,y_test)\n",
    "    \n",
    "    print(i)\n",
    "    print('accuracy_score_train = ', acc)\n",
    "    print('accuracy_score_test = ', acc1) \n",
    "    print('--'*30)\n"
   ]
  },
  {
   "cell_type": "code",
   "execution_count": null,
   "id": "85c84f44",
   "metadata": {},
   "outputs": [],
   "source": []
  },
  {
   "cell_type": "code",
   "execution_count": 23,
   "id": "93c66c8d",
   "metadata": {},
   "outputs": [
    {
     "name": "stdout",
     "output_type": "stream",
     "text": [
      "       Diabetes prediction Dataset\n",
      "0                                1\n",
      "1                                0\n",
      "2                                0\n",
      "3                                0\n",
      "4                                0\n",
      "...                            ...\n",
      "22995                            0\n",
      "22996                            0\n",
      "22997                            0\n",
      "22998                            0\n",
      "22999                            0\n",
      "\n",
      "[23000 rows x 1 columns]\n"
     ]
    }
   ],
   "source": [
    "data = pd.DataFrame(data={\"Diabetes prediction Dataset\": y_pred_test.flatten()})\n",
    "print(data)"
   ]
  },
  {
   "cell_type": "markdown",
   "id": "fb71d65b",
   "metadata": {},
   "source": [
    " EmployeeName         100000 non-null  object \n",
    " 1   Patient_id           100000 non-null  object \n",
    " 2   gender               100000 non-null  object \n",
    " 3   D.O.B                100000 non-null  object \n",
    " 4   hypertension         100000 non-null  int64  \n",
    " 5   heart_disease        100000 non-null  int64  \n",
    " 6   smoking_history      100000 non-null  object \n",
    " 7   bmi                  100000 non-null  float64\n",
    " 8   HbA1c_level          100000 non-null  float64\n",
    " 9   blood_glucose_level  100000 non-null  int64  \n",
    " 10  diabetes             100000 non-null  int64 "
   ]
  },
  {
   "cell_type": "code",
   "execution_count": 29,
   "id": "3e8fb7e9",
   "metadata": {},
   "outputs": [],
   "source": [
    "\n",
    "\n",
    "def prediction_diabetes(precess,model):  # Added model as a parameter\n",
    "    # Collect user input\n",
    "    gender=str(input('Enter Gender[Female, Male, Other]: '))\n",
    "    hypertension = float(input('Enter hypertension[1,0]: '))\n",
    "    heart_disease = float(input('Enter heart_disease[1,0]: '))\n",
    "    smoking_history = str(input('Enter smoking_history[never, No info,current]: '))\n",
    "    bmi = float(input('Enter bmi: '))\n",
    "    HbA1c_level = float(input('Enter HbA1c_level: '))\n",
    "    blood_glucose_level = int(input('Enter blood_glucose_level: '))\n",
    "\n",
    "\n",
    "    diabetes_data = {\n",
    "        'gender': [gender],\n",
    "        'hypertension': [hypertension],\n",
    "        'heart_disease': [heart_disease],\n",
    "        'smoking_history': [smoking_history],\n",
    "        'bmi': [bmi],\n",
    "        'HbA1c_level': [HbA1c_level],\n",
    "        'blood_glucose_level': [blood_glucose_level],\n",
    "        \n",
    "    }\n",
    "\n",
    "    df_pred = pd.DataFrame(diabetes_data)\n",
    "\n",
    "    # Transform data\n",
    "    preth = pd.DataFrame(precess.fit_transform(df_pred), columns=precess.get_feature_names_out())  # Preserve column names\n",
    "\n",
    "    # Prediction\n",
    "    prediction = model.predict(preth)\n",
    "\n",
    "    # Add prediction to DataFrame\n",
    "    df_pred['diabetes_prediction'] = prediction\n",
    "    \n",
    "    bins = (0, 0.5, 1)\n",
    "    group_names = ['NO', 'Yes']\n",
    "    df_pred['diabetes'] = pd.cut(df_pred['diabetes_prediction'], bins=bins, labels=group_names)\n",
    "\n",
    "    # Add 'diabetes_' column based on 'diabetes_prediction'\n",
    "    df_pred['diabetes_'] = df_pred['diabetes_prediction'].apply(lambda x: 'No' if x == 0 else 'Yes')\n",
    "    \n",
    "    return df_pred\n",
    "\n"
   ]
  },
  {
   "cell_type": "code",
   "execution_count": 30,
   "id": "9d766e86",
   "metadata": {},
   "outputs": [
    {
     "name": "stdout",
     "output_type": "stream",
     "text": [
      "Enter Gender[Female, Male, Other]: Male\n",
      "Enter hypertension[1,0]: 1\n",
      "Enter heart_disease[1,0]: 1\n",
      "Enter smoking_history[never, No info,current]: never\n",
      "Enter bmi: 34.3\n",
      "Enter HbA1c_level: 2.2\n",
      "Enter blood_glucose_level: 120\n"
     ]
    },
    {
     "data": {
      "text/html": [
       "<div>\n",
       "<style scoped>\n",
       "    .dataframe tbody tr th:only-of-type {\n",
       "        vertical-align: middle;\n",
       "    }\n",
       "\n",
       "    .dataframe tbody tr th {\n",
       "        vertical-align: top;\n",
       "    }\n",
       "\n",
       "    .dataframe thead th {\n",
       "        text-align: right;\n",
       "    }\n",
       "</style>\n",
       "<table border=\"1\" class=\"dataframe\">\n",
       "  <thead>\n",
       "    <tr style=\"text-align: right;\">\n",
       "      <th></th>\n",
       "      <th>gender</th>\n",
       "      <th>hypertension</th>\n",
       "      <th>heart_disease</th>\n",
       "      <th>smoking_history</th>\n",
       "      <th>bmi</th>\n",
       "      <th>HbA1c_level</th>\n",
       "      <th>blood_glucose_level</th>\n",
       "      <th>diabetes_prediction</th>\n",
       "      <th>diabetes</th>\n",
       "    </tr>\n",
       "  </thead>\n",
       "  <tbody>\n",
       "    <tr>\n",
       "      <th>0</th>\n",
       "      <td>Male</td>\n",
       "      <td>1.0</td>\n",
       "      <td>1.0</td>\n",
       "      <td>never</td>\n",
       "      <td>34.3</td>\n",
       "      <td>2.2</td>\n",
       "      <td>120</td>\n",
       "      <td>0</td>\n",
       "      <td>NaN</td>\n",
       "    </tr>\n",
       "  </tbody>\n",
       "</table>\n",
       "</div>"
      ],
      "text/plain": [
       "  gender  hypertension  heart_disease smoking_history   bmi  HbA1c_level  \\\n",
       "0   Male           1.0            1.0           never  34.3          2.2   \n",
       "\n",
       "   blood_glucose_level  diabetes_prediction diabetes  \n",
       "0                  120                    0      NaN  "
      ]
     },
     "execution_count": 30,
     "metadata": {},
     "output_type": "execute_result"
    }
   ],
   "source": [
    "prediction_diabetes(pre,rdf)"
   ]
  },
  {
   "cell_type": "code",
   "execution_count": null,
   "id": "19874ac1",
   "metadata": {},
   "outputs": [],
   "source": []
  }
 ],
 "metadata": {
  "kernelspec": {
   "display_name": "Python 3",
   "language": "python",
   "name": "python3"
  },
  "language_info": {
   "codemirror_mode": {
    "name": "ipython",
    "version": 3
   },
   "file_extension": ".py",
   "mimetype": "text/x-python",
   "name": "python",
   "nbconvert_exporter": "python",
   "pygments_lexer": "ipython3",
   "version": "3.8.8"
  }
 },
 "nbformat": 4,
 "nbformat_minor": 5
}
