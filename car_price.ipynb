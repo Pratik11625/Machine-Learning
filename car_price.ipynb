{
 "cells": [
  {
   "cell_type": "markdown",
   "id": "20b9a63c",
   "metadata": {},
   "source": [
    "# Car_price Prediction Model\n",
    "Objective:\n",
    "\n",
    "The objective of the car selling price prediction project is to develop a machine learning model that accurately predicts the selling price of used cars based on various attributes. \n",
    "\n",
    "Problem Statement:\n",
    "\n",
    "The problem is to predict the selling price of used cars accurately based on various attributes or features available in the dataset. Given a dataset containing information about car make and model, year of manufacture, present price, mileage, fuel type, selling type, transmission type, and number of previous owners, the task is to develop a machine learning model that can effectively estimate the selling price of cars. This prediction model aims to assist both sellers and buyers in making informed decisions about pricing and purchasing used cars in the automotive market."
   ]
  },
  {
   "cell_type": "code",
   "execution_count": 1,
   "id": "34d4d0b5",
   "metadata": {},
   "outputs": [],
   "source": [
    "from warnings import filterwarnings\n",
    "filterwarnings('ignore')\n",
    "import os\n",
    "os.chdir('D:/py/')\n",
    "import pandas as pd\n",
    "\n",
    "import seaborn as sns\n",
    "import matplotlib.pyplot as plt\n",
    "\n",
    "from sklearn.pipeline import Pipeline\n",
    "from sklearn.preprocessing import StandardScaler,OneHotEncoder,OrdinalEncoder\n",
    "from sklearn.compose import ColumnTransformer\n",
    "from sklearn.impute import SimpleImputer\n",
    "\n",
    "from sklearn.model_selection import train_test_split\n",
    "\n",
    "from sklearn.linear_model import LinearRegression\n",
    "from sklearn.metrics import mean_absolute_error, mean_squared_error,r2_score"
   ]
  },
  {
   "cell_type": "code",
   "execution_count": 2,
   "id": "beb344f2",
   "metadata": {},
   "outputs": [
    {
     "data": {
      "text/html": [
       "<div>\n",
       "<style scoped>\n",
       "    .dataframe tbody tr th:only-of-type {\n",
       "        vertical-align: middle;\n",
       "    }\n",
       "\n",
       "    .dataframe tbody tr th {\n",
       "        vertical-align: top;\n",
       "    }\n",
       "\n",
       "    .dataframe thead th {\n",
       "        text-align: right;\n",
       "    }\n",
       "</style>\n",
       "<table border=\"1\" class=\"dataframe\">\n",
       "  <thead>\n",
       "    <tr style=\"text-align: right;\">\n",
       "      <th></th>\n",
       "      <th>Car_Name</th>\n",
       "      <th>Year</th>\n",
       "      <th>Selling_Price</th>\n",
       "      <th>Present_Price</th>\n",
       "      <th>Driven_kms</th>\n",
       "      <th>Fuel_Type</th>\n",
       "      <th>Selling_type</th>\n",
       "      <th>Transmission</th>\n",
       "      <th>Owner</th>\n",
       "    </tr>\n",
       "  </thead>\n",
       "  <tbody>\n",
       "    <tr>\n",
       "      <th>0</th>\n",
       "      <td>ritz</td>\n",
       "      <td>2014</td>\n",
       "      <td>3.35</td>\n",
       "      <td>5.59</td>\n",
       "      <td>27000</td>\n",
       "      <td>Petrol</td>\n",
       "      <td>Dealer</td>\n",
       "      <td>Manual</td>\n",
       "      <td>0</td>\n",
       "    </tr>\n",
       "    <tr>\n",
       "      <th>1</th>\n",
       "      <td>sx4</td>\n",
       "      <td>2013</td>\n",
       "      <td>4.75</td>\n",
       "      <td>9.54</td>\n",
       "      <td>43000</td>\n",
       "      <td>Diesel</td>\n",
       "      <td>Dealer</td>\n",
       "      <td>Manual</td>\n",
       "      <td>0</td>\n",
       "    </tr>\n",
       "    <tr>\n",
       "      <th>2</th>\n",
       "      <td>ciaz</td>\n",
       "      <td>2017</td>\n",
       "      <td>7.25</td>\n",
       "      <td>9.85</td>\n",
       "      <td>6900</td>\n",
       "      <td>Petrol</td>\n",
       "      <td>Dealer</td>\n",
       "      <td>Manual</td>\n",
       "      <td>0</td>\n",
       "    </tr>\n",
       "    <tr>\n",
       "      <th>3</th>\n",
       "      <td>wagon r</td>\n",
       "      <td>2011</td>\n",
       "      <td>2.85</td>\n",
       "      <td>4.15</td>\n",
       "      <td>5200</td>\n",
       "      <td>Petrol</td>\n",
       "      <td>Dealer</td>\n",
       "      <td>Manual</td>\n",
       "      <td>0</td>\n",
       "    </tr>\n",
       "    <tr>\n",
       "      <th>4</th>\n",
       "      <td>swift</td>\n",
       "      <td>2014</td>\n",
       "      <td>4.60</td>\n",
       "      <td>6.87</td>\n",
       "      <td>42450</td>\n",
       "      <td>Diesel</td>\n",
       "      <td>Dealer</td>\n",
       "      <td>Manual</td>\n",
       "      <td>0</td>\n",
       "    </tr>\n",
       "    <tr>\n",
       "      <th>...</th>\n",
       "      <td>...</td>\n",
       "      <td>...</td>\n",
       "      <td>...</td>\n",
       "      <td>...</td>\n",
       "      <td>...</td>\n",
       "      <td>...</td>\n",
       "      <td>...</td>\n",
       "      <td>...</td>\n",
       "      <td>...</td>\n",
       "    </tr>\n",
       "    <tr>\n",
       "      <th>296</th>\n",
       "      <td>city</td>\n",
       "      <td>2016</td>\n",
       "      <td>9.50</td>\n",
       "      <td>11.60</td>\n",
       "      <td>33988</td>\n",
       "      <td>Diesel</td>\n",
       "      <td>Dealer</td>\n",
       "      <td>Manual</td>\n",
       "      <td>0</td>\n",
       "    </tr>\n",
       "    <tr>\n",
       "      <th>297</th>\n",
       "      <td>brio</td>\n",
       "      <td>2015</td>\n",
       "      <td>4.00</td>\n",
       "      <td>5.90</td>\n",
       "      <td>60000</td>\n",
       "      <td>Petrol</td>\n",
       "      <td>Dealer</td>\n",
       "      <td>Manual</td>\n",
       "      <td>0</td>\n",
       "    </tr>\n",
       "    <tr>\n",
       "      <th>298</th>\n",
       "      <td>city</td>\n",
       "      <td>2009</td>\n",
       "      <td>3.35</td>\n",
       "      <td>11.00</td>\n",
       "      <td>87934</td>\n",
       "      <td>Petrol</td>\n",
       "      <td>Dealer</td>\n",
       "      <td>Manual</td>\n",
       "      <td>0</td>\n",
       "    </tr>\n",
       "    <tr>\n",
       "      <th>299</th>\n",
       "      <td>city</td>\n",
       "      <td>2017</td>\n",
       "      <td>11.50</td>\n",
       "      <td>12.50</td>\n",
       "      <td>9000</td>\n",
       "      <td>Diesel</td>\n",
       "      <td>Dealer</td>\n",
       "      <td>Manual</td>\n",
       "      <td>0</td>\n",
       "    </tr>\n",
       "    <tr>\n",
       "      <th>300</th>\n",
       "      <td>brio</td>\n",
       "      <td>2016</td>\n",
       "      <td>5.30</td>\n",
       "      <td>5.90</td>\n",
       "      <td>5464</td>\n",
       "      <td>Petrol</td>\n",
       "      <td>Dealer</td>\n",
       "      <td>Manual</td>\n",
       "      <td>0</td>\n",
       "    </tr>\n",
       "  </tbody>\n",
       "</table>\n",
       "<p>301 rows × 9 columns</p>\n",
       "</div>"
      ],
      "text/plain": [
       "    Car_Name  Year  Selling_Price  Present_Price  Driven_kms Fuel_Type  \\\n",
       "0       ritz  2014           3.35           5.59       27000    Petrol   \n",
       "1        sx4  2013           4.75           9.54       43000    Diesel   \n",
       "2       ciaz  2017           7.25           9.85        6900    Petrol   \n",
       "3    wagon r  2011           2.85           4.15        5200    Petrol   \n",
       "4      swift  2014           4.60           6.87       42450    Diesel   \n",
       "..       ...   ...            ...            ...         ...       ...   \n",
       "296     city  2016           9.50          11.60       33988    Diesel   \n",
       "297     brio  2015           4.00           5.90       60000    Petrol   \n",
       "298     city  2009           3.35          11.00       87934    Petrol   \n",
       "299     city  2017          11.50          12.50        9000    Diesel   \n",
       "300     brio  2016           5.30           5.90        5464    Petrol   \n",
       "\n",
       "    Selling_type Transmission  Owner  \n",
       "0         Dealer       Manual      0  \n",
       "1         Dealer       Manual      0  \n",
       "2         Dealer       Manual      0  \n",
       "3         Dealer       Manual      0  \n",
       "4         Dealer       Manual      0  \n",
       "..           ...          ...    ...  \n",
       "296       Dealer       Manual      0  \n",
       "297       Dealer       Manual      0  \n",
       "298       Dealer       Manual      0  \n",
       "299       Dealer       Manual      0  \n",
       "300       Dealer       Manual      0  \n",
       "\n",
       "[301 rows x 9 columns]"
      ]
     },
     "execution_count": 2,
     "metadata": {},
     "output_type": "execute_result"
    }
   ],
   "source": [
    "\n",
    "df=pd.read_csv('car data.csv')\n",
    "df"
   ]
  },
  {
   "cell_type": "markdown",
   "id": "2c1982a7",
   "metadata": {},
   "source": [
    "# EDA"
   ]
  },
  {
   "cell_type": "code",
   "execution_count": 3,
   "id": "2270cb93",
   "metadata": {},
   "outputs": [
    {
     "name": "stdout",
     "output_type": "stream",
     "text": [
      "<class 'pandas.core.frame.DataFrame'>\n",
      "RangeIndex: 301 entries, 0 to 300\n",
      "Data columns (total 9 columns):\n",
      " #   Column         Non-Null Count  Dtype  \n",
      "---  ------         --------------  -----  \n",
      " 0   Car_Name       301 non-null    object \n",
      " 1   Year           301 non-null    int64  \n",
      " 2   Selling_Price  301 non-null    float64\n",
      " 3   Present_Price  301 non-null    float64\n",
      " 4   Driven_kms     301 non-null    int64  \n",
      " 5   Fuel_Type      301 non-null    object \n",
      " 6   Selling_type   301 non-null    object \n",
      " 7   Transmission   301 non-null    object \n",
      " 8   Owner          301 non-null    int64  \n",
      "dtypes: float64(2), int64(3), object(4)\n",
      "memory usage: 21.3+ KB\n"
     ]
    }
   ],
   "source": [
    "df.info()"
   ]
  },
  {
   "cell_type": "code",
   "execution_count": 4,
   "id": "633a0c10",
   "metadata": {},
   "outputs": [
    {
     "data": {
      "text/plain": [
       "Car_Name         0\n",
       "Year             0\n",
       "Selling_Price    0\n",
       "Present_Price    0\n",
       "Driven_kms       0\n",
       "Fuel_Type        0\n",
       "Selling_type     0\n",
       "Transmission     0\n",
       "Owner            0\n",
       "dtype: int64"
      ]
     },
     "execution_count": 4,
     "metadata": {},
     "output_type": "execute_result"
    }
   ],
   "source": [
    "df.isna().sum()"
   ]
  },
  {
   "cell_type": "code",
   "execution_count": 5,
   "id": "ee68a49b",
   "metadata": {
    "scrolled": false
   },
   "outputs": [
    {
     "data": {
      "text/html": [
       "<div>\n",
       "<style scoped>\n",
       "    .dataframe tbody tr th:only-of-type {\n",
       "        vertical-align: middle;\n",
       "    }\n",
       "\n",
       "    .dataframe tbody tr th {\n",
       "        vertical-align: top;\n",
       "    }\n",
       "\n",
       "    .dataframe thead th {\n",
       "        text-align: right;\n",
       "    }\n",
       "</style>\n",
       "<table border=\"1\" class=\"dataframe\">\n",
       "  <thead>\n",
       "    <tr style=\"text-align: right;\">\n",
       "      <th></th>\n",
       "      <th>Car_Name</th>\n",
       "      <th>Year</th>\n",
       "      <th>Selling_Price</th>\n",
       "      <th>Present_Price</th>\n",
       "      <th>Driven_kms</th>\n",
       "      <th>Fuel_Type</th>\n",
       "      <th>Selling_type</th>\n",
       "      <th>Transmission</th>\n",
       "      <th>Owner</th>\n",
       "    </tr>\n",
       "  </thead>\n",
       "  <tbody>\n",
       "    <tr>\n",
       "      <th>count</th>\n",
       "      <td>301</td>\n",
       "      <td>301.000000</td>\n",
       "      <td>301.000000</td>\n",
       "      <td>301.000000</td>\n",
       "      <td>301.000000</td>\n",
       "      <td>301</td>\n",
       "      <td>301</td>\n",
       "      <td>301</td>\n",
       "      <td>301.000000</td>\n",
       "    </tr>\n",
       "    <tr>\n",
       "      <th>unique</th>\n",
       "      <td>98</td>\n",
       "      <td>NaN</td>\n",
       "      <td>NaN</td>\n",
       "      <td>NaN</td>\n",
       "      <td>NaN</td>\n",
       "      <td>3</td>\n",
       "      <td>2</td>\n",
       "      <td>2</td>\n",
       "      <td>NaN</td>\n",
       "    </tr>\n",
       "    <tr>\n",
       "      <th>top</th>\n",
       "      <td>city</td>\n",
       "      <td>NaN</td>\n",
       "      <td>NaN</td>\n",
       "      <td>NaN</td>\n",
       "      <td>NaN</td>\n",
       "      <td>Petrol</td>\n",
       "      <td>Dealer</td>\n",
       "      <td>Manual</td>\n",
       "      <td>NaN</td>\n",
       "    </tr>\n",
       "    <tr>\n",
       "      <th>freq</th>\n",
       "      <td>26</td>\n",
       "      <td>NaN</td>\n",
       "      <td>NaN</td>\n",
       "      <td>NaN</td>\n",
       "      <td>NaN</td>\n",
       "      <td>239</td>\n",
       "      <td>195</td>\n",
       "      <td>261</td>\n",
       "      <td>NaN</td>\n",
       "    </tr>\n",
       "    <tr>\n",
       "      <th>mean</th>\n",
       "      <td>NaN</td>\n",
       "      <td>2013.627907</td>\n",
       "      <td>4.661296</td>\n",
       "      <td>7.628472</td>\n",
       "      <td>36947.205980</td>\n",
       "      <td>NaN</td>\n",
       "      <td>NaN</td>\n",
       "      <td>NaN</td>\n",
       "      <td>0.043189</td>\n",
       "    </tr>\n",
       "    <tr>\n",
       "      <th>std</th>\n",
       "      <td>NaN</td>\n",
       "      <td>2.891554</td>\n",
       "      <td>5.082812</td>\n",
       "      <td>8.642584</td>\n",
       "      <td>38886.883882</td>\n",
       "      <td>NaN</td>\n",
       "      <td>NaN</td>\n",
       "      <td>NaN</td>\n",
       "      <td>0.247915</td>\n",
       "    </tr>\n",
       "    <tr>\n",
       "      <th>min</th>\n",
       "      <td>NaN</td>\n",
       "      <td>2003.000000</td>\n",
       "      <td>0.100000</td>\n",
       "      <td>0.320000</td>\n",
       "      <td>500.000000</td>\n",
       "      <td>NaN</td>\n",
       "      <td>NaN</td>\n",
       "      <td>NaN</td>\n",
       "      <td>0.000000</td>\n",
       "    </tr>\n",
       "    <tr>\n",
       "      <th>25%</th>\n",
       "      <td>NaN</td>\n",
       "      <td>2012.000000</td>\n",
       "      <td>0.900000</td>\n",
       "      <td>1.200000</td>\n",
       "      <td>15000.000000</td>\n",
       "      <td>NaN</td>\n",
       "      <td>NaN</td>\n",
       "      <td>NaN</td>\n",
       "      <td>0.000000</td>\n",
       "    </tr>\n",
       "    <tr>\n",
       "      <th>50%</th>\n",
       "      <td>NaN</td>\n",
       "      <td>2014.000000</td>\n",
       "      <td>3.600000</td>\n",
       "      <td>6.400000</td>\n",
       "      <td>32000.000000</td>\n",
       "      <td>NaN</td>\n",
       "      <td>NaN</td>\n",
       "      <td>NaN</td>\n",
       "      <td>0.000000</td>\n",
       "    </tr>\n",
       "    <tr>\n",
       "      <th>75%</th>\n",
       "      <td>NaN</td>\n",
       "      <td>2016.000000</td>\n",
       "      <td>6.000000</td>\n",
       "      <td>9.900000</td>\n",
       "      <td>48767.000000</td>\n",
       "      <td>NaN</td>\n",
       "      <td>NaN</td>\n",
       "      <td>NaN</td>\n",
       "      <td>0.000000</td>\n",
       "    </tr>\n",
       "    <tr>\n",
       "      <th>max</th>\n",
       "      <td>NaN</td>\n",
       "      <td>2018.000000</td>\n",
       "      <td>35.000000</td>\n",
       "      <td>92.600000</td>\n",
       "      <td>500000.000000</td>\n",
       "      <td>NaN</td>\n",
       "      <td>NaN</td>\n",
       "      <td>NaN</td>\n",
       "      <td>3.000000</td>\n",
       "    </tr>\n",
       "  </tbody>\n",
       "</table>\n",
       "</div>"
      ],
      "text/plain": [
       "       Car_Name         Year  Selling_Price  Present_Price     Driven_kms  \\\n",
       "count       301   301.000000     301.000000     301.000000     301.000000   \n",
       "unique       98          NaN            NaN            NaN            NaN   \n",
       "top        city          NaN            NaN            NaN            NaN   \n",
       "freq         26          NaN            NaN            NaN            NaN   \n",
       "mean        NaN  2013.627907       4.661296       7.628472   36947.205980   \n",
       "std         NaN     2.891554       5.082812       8.642584   38886.883882   \n",
       "min         NaN  2003.000000       0.100000       0.320000     500.000000   \n",
       "25%         NaN  2012.000000       0.900000       1.200000   15000.000000   \n",
       "50%         NaN  2014.000000       3.600000       6.400000   32000.000000   \n",
       "75%         NaN  2016.000000       6.000000       9.900000   48767.000000   \n",
       "max         NaN  2018.000000      35.000000      92.600000  500000.000000   \n",
       "\n",
       "       Fuel_Type Selling_type Transmission       Owner  \n",
       "count        301          301          301  301.000000  \n",
       "unique         3            2            2         NaN  \n",
       "top       Petrol       Dealer       Manual         NaN  \n",
       "freq         239          195          261         NaN  \n",
       "mean         NaN          NaN          NaN    0.043189  \n",
       "std          NaN          NaN          NaN    0.247915  \n",
       "min          NaN          NaN          NaN    0.000000  \n",
       "25%          NaN          NaN          NaN    0.000000  \n",
       "50%          NaN          NaN          NaN    0.000000  \n",
       "75%          NaN          NaN          NaN    0.000000  \n",
       "max          NaN          NaN          NaN    3.000000  "
      ]
     },
     "execution_count": 5,
     "metadata": {},
     "output_type": "execute_result"
    }
   ],
   "source": [
    "df.describe(include='all')"
   ]
  },
  {
   "cell_type": "code",
   "execution_count": 6,
   "id": "97474d47",
   "metadata": {},
   "outputs": [
    {
     "data": {
      "text/plain": [
       "(301, 9)"
      ]
     },
     "execution_count": 6,
     "metadata": {},
     "output_type": "execute_result"
    }
   ],
   "source": [
    "df.shape"
   ]
  },
  {
   "cell_type": "code",
   "execution_count": 7,
   "id": "2c5c9c36",
   "metadata": {},
   "outputs": [
    {
     "data": {
      "text/plain": [
       "Car_Name          98\n",
       "Year              16\n",
       "Selling_Price    156\n",
       "Present_Price    148\n",
       "Driven_kms       206\n",
       "Fuel_Type          3\n",
       "Selling_type       2\n",
       "Transmission       2\n",
       "Owner              3\n",
       "dtype: int64"
      ]
     },
     "execution_count": 7,
     "metadata": {},
     "output_type": "execute_result"
    }
   ],
   "source": [
    "df.nunique()"
   ]
  },
  {
   "cell_type": "code",
   "execution_count": 8,
   "id": "890b6aa3",
   "metadata": {},
   "outputs": [
    {
     "data": {
      "text/html": [
       "<div>\n",
       "<style scoped>\n",
       "    .dataframe tbody tr th:only-of-type {\n",
       "        vertical-align: middle;\n",
       "    }\n",
       "\n",
       "    .dataframe tbody tr th {\n",
       "        vertical-align: top;\n",
       "    }\n",
       "\n",
       "    .dataframe thead th {\n",
       "        text-align: right;\n",
       "    }\n",
       "</style>\n",
       "<table border=\"1\" class=\"dataframe\">\n",
       "  <thead>\n",
       "    <tr style=\"text-align: right;\">\n",
       "      <th></th>\n",
       "      <th>Year</th>\n",
       "      <th>Selling_Price</th>\n",
       "      <th>Present_Price</th>\n",
       "      <th>Driven_kms</th>\n",
       "      <th>Owner</th>\n",
       "    </tr>\n",
       "  </thead>\n",
       "  <tbody>\n",
       "    <tr>\n",
       "      <th>Year</th>\n",
       "      <td>1.000000</td>\n",
       "      <td>0.236141</td>\n",
       "      <td>-0.047192</td>\n",
       "      <td>-0.524342</td>\n",
       "      <td>-0.182104</td>\n",
       "    </tr>\n",
       "    <tr>\n",
       "      <th>Selling_Price</th>\n",
       "      <td>0.236141</td>\n",
       "      <td>1.000000</td>\n",
       "      <td>0.878914</td>\n",
       "      <td>0.029187</td>\n",
       "      <td>-0.088344</td>\n",
       "    </tr>\n",
       "    <tr>\n",
       "      <th>Present_Price</th>\n",
       "      <td>-0.047192</td>\n",
       "      <td>0.878914</td>\n",
       "      <td>1.000000</td>\n",
       "      <td>0.203618</td>\n",
       "      <td>0.008058</td>\n",
       "    </tr>\n",
       "    <tr>\n",
       "      <th>Driven_kms</th>\n",
       "      <td>-0.524342</td>\n",
       "      <td>0.029187</td>\n",
       "      <td>0.203618</td>\n",
       "      <td>1.000000</td>\n",
       "      <td>0.089216</td>\n",
       "    </tr>\n",
       "    <tr>\n",
       "      <th>Owner</th>\n",
       "      <td>-0.182104</td>\n",
       "      <td>-0.088344</td>\n",
       "      <td>0.008058</td>\n",
       "      <td>0.089216</td>\n",
       "      <td>1.000000</td>\n",
       "    </tr>\n",
       "  </tbody>\n",
       "</table>\n",
       "</div>"
      ],
      "text/plain": [
       "                   Year  Selling_Price  Present_Price  Driven_kms     Owner\n",
       "Year           1.000000       0.236141      -0.047192   -0.524342 -0.182104\n",
       "Selling_Price  0.236141       1.000000       0.878914    0.029187 -0.088344\n",
       "Present_Price -0.047192       0.878914       1.000000    0.203618  0.008058\n",
       "Driven_kms    -0.524342       0.029187       0.203618    1.000000  0.089216\n",
       "Owner         -0.182104      -0.088344       0.008058    0.089216  1.000000"
      ]
     },
     "execution_count": 8,
     "metadata": {},
     "output_type": "execute_result"
    }
   ],
   "source": [
    "df.corr()"
   ]
  },
  {
   "cell_type": "code",
   "execution_count": 9,
   "id": "632cb71e",
   "metadata": {},
   "outputs": [
    {
     "data": {
      "text/plain": [
       "Year              2013.627907\n",
       "Selling_Price        4.661296\n",
       "Present_Price        7.628472\n",
       "Driven_kms       36947.205980\n",
       "Owner                0.043189\n",
       "dtype: float64"
      ]
     },
     "execution_count": 9,
     "metadata": {},
     "output_type": "execute_result"
    }
   ],
   "source": [
    "df.mean()"
   ]
  },
  {
   "cell_type": "code",
   "execution_count": 10,
   "id": "cdf38fea",
   "metadata": {},
   "outputs": [
    {
     "data": {
      "text/plain": [
       "Year              2014.0\n",
       "Selling_Price        3.6\n",
       "Present_Price        6.4\n",
       "Driven_kms       32000.0\n",
       "Owner                0.0\n",
       "dtype: float64"
      ]
     },
     "execution_count": 10,
     "metadata": {},
     "output_type": "execute_result"
    }
   ],
   "source": [
    "df.median()"
   ]
  },
  {
   "cell_type": "code",
   "execution_count": 11,
   "id": "9b6b6c6b",
   "metadata": {},
   "outputs": [
    {
     "data": {
      "text/plain": [
       "'city'"
      ]
     },
     "execution_count": 11,
     "metadata": {},
     "output_type": "execute_result"
    }
   ],
   "source": [
    "df['Car_Name'].mode()[0]"
   ]
  },
  {
   "cell_type": "code",
   "execution_count": 12,
   "id": "370f2a52",
   "metadata": {},
   "outputs": [
    {
     "data": {
      "text/plain": [
       "'Dealer'"
      ]
     },
     "execution_count": 12,
     "metadata": {},
     "output_type": "execute_result"
    }
   ],
   "source": [
    "df['Selling_type'].mode()[0]"
   ]
  },
  {
   "cell_type": "code",
   "execution_count": 13,
   "id": "fac7a985",
   "metadata": {},
   "outputs": [
    {
     "data": {
      "text/plain": [
       "'Petrol'"
      ]
     },
     "execution_count": 13,
     "metadata": {},
     "output_type": "execute_result"
    }
   ],
   "source": [
    "df['Fuel_Type'].mode()[0]"
   ]
  },
  {
   "cell_type": "code",
   "execution_count": 14,
   "id": "49f1dd28",
   "metadata": {},
   "outputs": [
    {
     "data": {
      "text/plain": [
       "'Manual'"
      ]
     },
     "execution_count": 14,
     "metadata": {},
     "output_type": "execute_result"
    }
   ],
   "source": [
    "df['Transmission'].mode()[0]"
   ]
  },
  {
   "cell_type": "code",
   "execution_count": 15,
   "id": "0bfeccf5",
   "metadata": {},
   "outputs": [
    {
     "data": {
      "text/plain": [
       "<pandas.core.groupby.generic.DataFrameGroupBy object at 0x000001F4934284C0>"
      ]
     },
     "execution_count": 15,
     "metadata": {},
     "output_type": "execute_result"
    }
   ],
   "source": [
    "group=df.groupby(by='Fuel_Type')[['Car_Name','Transmission','Selling_type']]\n",
    "group"
   ]
  },
  {
   "cell_type": "code",
   "execution_count": 16,
   "id": "45736876",
   "metadata": {},
   "outputs": [
    {
     "data": {
      "text/plain": [
       "array([['ritz', 2014, 3.35, 5.59, 27000, 'Petrol', 'Dealer', 'Manual', 0],\n",
       "       ['sx4', 2013, 4.75, 9.54, 43000, 'Diesel', 'Dealer', 'Manual', 0],\n",
       "       ['ciaz', 2017, 7.25, 9.85, 6900, 'Petrol', 'Dealer', 'Manual', 0],\n",
       "       ['wagon r', 2011, 2.85, 4.15, 5200, 'Petrol', 'Dealer', 'Manual',\n",
       "        0],\n",
       "       ['swift', 2014, 4.6, 6.87, 42450, 'Diesel', 'Dealer', 'Manual', 0],\n",
       "       ['vitara brezza', 2018, 9.25, 9.83, 2071, 'Diesel', 'Dealer',\n",
       "        'Manual', 0],\n",
       "       ['ciaz', 2015, 6.75, 8.12, 18796, 'Petrol', 'Dealer', 'Manual', 0],\n",
       "       ['s cross', 2015, 6.5, 8.61, 33429, 'Diesel', 'Dealer', 'Manual',\n",
       "        0],\n",
       "       ['ciaz', 2016, 8.75, 8.89, 20273, 'Diesel', 'Dealer', 'Manual', 0],\n",
       "       ['ciaz', 2015, 7.45, 8.92, 42367, 'Diesel', 'Dealer', 'Manual', 0]],\n",
       "      dtype=object)"
      ]
     },
     "execution_count": 16,
     "metadata": {},
     "output_type": "execute_result"
    }
   ],
   "source": [
    "df.values[:10]"
   ]
  },
  {
   "cell_type": "code",
   "execution_count": 17,
   "id": "6500f844",
   "metadata": {},
   "outputs": [
    {
     "data": {
      "text/plain": [
       "Fuel_Type\n",
       "Petrol       239\n",
       "Diesel        60\n",
       "CNG            2\n",
       "dtype: int64"
      ]
     },
     "execution_count": 17,
     "metadata": {},
     "output_type": "execute_result"
    }
   ],
   "source": [
    "df.value_counts(['Fuel_Type'])"
   ]
  },
  {
   "cell_type": "code",
   "execution_count": 18,
   "id": "d00085c4",
   "metadata": {},
   "outputs": [
    {
     "data": {
      "text/plain": [
       "Transmission\n",
       "Manual          261\n",
       "Automatic        40\n",
       "dtype: int64"
      ]
     },
     "execution_count": 18,
     "metadata": {},
     "output_type": "execute_result"
    }
   ],
   "source": [
    "df.value_counts(['Transmission'])"
   ]
  },
  {
   "cell_type": "code",
   "execution_count": 19,
   "id": "c3ce71d5",
   "metadata": {},
   "outputs": [
    {
     "data": {
      "text/plain": [
       "Selling_type\n",
       "Dealer          195\n",
       "Individual      106\n",
       "dtype: int64"
      ]
     },
     "execution_count": 19,
     "metadata": {},
     "output_type": "execute_result"
    }
   ],
   "source": [
    "df.value_counts(['Selling_type'])"
   ]
  },
  {
   "cell_type": "code",
   "execution_count": 20,
   "id": "40839773",
   "metadata": {},
   "outputs": [
    {
     "data": {
      "text/plain": [
       "Car_Name                 \n",
       "city                         26\n",
       "corolla altis                16\n",
       "verna                        14\n",
       "fortuner                     11\n",
       "brio                         10\n",
       "ciaz                          9\n",
       "innova                        9\n",
       "i20                           9\n",
       "grand i10                     8\n",
       "Royal Enfield Classic 350     7\n",
       "dtype: int64"
      ]
     },
     "execution_count": 20,
     "metadata": {},
     "output_type": "execute_result"
    }
   ],
   "source": [
    "df.value_counts(['Car_Name'])[:10]"
   ]
  },
  {
   "cell_type": "code",
   "execution_count": 21,
   "id": "df69a938",
   "metadata": {},
   "outputs": [
    {
     "data": {
      "text/plain": [
       "Year\n",
       "2015    61\n",
       "2016    50\n",
       "2014    38\n",
       "2017    35\n",
       "2013    33\n",
       "2012    23\n",
       "2011    19\n",
       "2010    15\n",
       "2008     7\n",
       "2009     6\n",
       "dtype: int64"
      ]
     },
     "execution_count": 21,
     "metadata": {},
     "output_type": "execute_result"
    }
   ],
   "source": [
    "df.value_counts(['Year'])[:10]"
   ]
  },
  {
   "cell_type": "code",
   "execution_count": null,
   "id": "015f7b3e",
   "metadata": {},
   "outputs": [],
   "source": []
  },
  {
   "cell_type": "markdown",
   "id": "376f3330",
   "metadata": {},
   "source": [
    "## plotting"
   ]
  },
  {
   "cell_type": "code",
   "execution_count": 23,
   "id": "9213ab6c",
   "metadata": {},
   "outputs": [
    {
     "data": {
      "text/plain": [
       "<AxesSubplot:>"
      ]
     },
     "execution_count": 23,
     "metadata": {},
     "output_type": "execute_result"
    },
    {
     "data": {
      "image/png": "[encoded data removed]",
      "text/plain": [
       "<Figure size 432x288 with 2 Axes>"
      ]
     },
     "metadata": {
      "needs_background": "light"
     },
     "output_type": "display_data"
    }
   ],
   "source": [
    "sns.heatmap(df.corr(), annot=True, cmap=\"crest\")"
   ]
  },
  {
   "cell_type": "code",
   "execution_count": 24,
   "id": "afc352f3",
   "metadata": {},
   "outputs": [
    {
     "data": {
      "text/plain": [
       "<AxesSubplot:xlabel='Year', ylabel='Driven_kms'>"
      ]
     },
     "execution_count": 24,
     "metadata": {},
     "output_type": "execute_result"
    },
    {
     "data": {
      "image/png": "[encoded data removed]",
      "text/plain": [
       "<Figure size 432x288 with 1 Axes>"
      ]
     },
     "metadata": {
      "needs_background": "light"
     },
     "output_type": "display_data"
    }
   ],
   "source": [
    "sns.scatterplot(x=df['Year'], y=df['Driven_kms'])"
   ]
  },
  {
   "cell_type": "code",
   "execution_count": 25,
   "id": "11228940",
   "metadata": {},
   "outputs": [
    {
     "data": {
      "text/plain": [
       "<AxesSubplot:xlabel='Year', ylabel='Owner'>"
      ]
     },
     "execution_count": 25,
     "metadata": {},
     "output_type": "execute_result"
    },
    {
     "data": {
      "image/png": "[encoded data removed]",
      "text/plain": [
       "<Figure size 432x288 with 1 Axes>"
      ]
     },
     "metadata": {
      "needs_background": "light"
     },
     "output_type": "display_data"
    }
   ],
   "source": [
    "sns.scatterplot(x=df['Year'], y=df['Owner'])"
   ]
  },
  {
   "cell_type": "code",
   "execution_count": 26,
   "id": "13a5af0e",
   "metadata": {},
   "outputs": [
    {
     "data": {
      "text/plain": [
       "<AxesSubplot:xlabel='Driven_kms', ylabel='Owner'>"
      ]
     },
     "execution_count": 26,
     "metadata": {},
     "output_type": "execute_result"
    },
    {
     "data": {
      "image/png": "[encoded data removed]",
      "text/plain": [
       "<Figure size 432x288 with 1 Axes>"
      ]
     },
     "metadata": {
      "needs_background": "light"
     },
     "output_type": "display_data"
    }
   ],
   "source": [
    "sns.scatterplot(x=df['Driven_kms'], y=df['Owner'])"
   ]
  },
  {
   "cell_type": "code",
   "execution_count": 27,
   "id": "83f2da58",
   "metadata": {},
   "outputs": [
    {
     "data": {
      "text/html": [
       "<div>\n",
       "<style scoped>\n",
       "    .dataframe tbody tr th:only-of-type {\n",
       "        vertical-align: middle;\n",
       "    }\n",
       "\n",
       "    .dataframe tbody tr th {\n",
       "        vertical-align: top;\n",
       "    }\n",
       "\n",
       "    .dataframe thead th {\n",
       "        text-align: right;\n",
       "    }\n",
       "</style>\n",
       "<table border=\"1\" class=\"dataframe\">\n",
       "  <thead>\n",
       "    <tr style=\"text-align: right;\">\n",
       "      <th>Fuel_Type</th>\n",
       "      <th>CNG</th>\n",
       "      <th>Diesel</th>\n",
       "      <th>Petrol</th>\n",
       "    </tr>\n",
       "    <tr>\n",
       "      <th>Car_Name</th>\n",
       "      <th></th>\n",
       "      <th></th>\n",
       "      <th></th>\n",
       "    </tr>\n",
       "  </thead>\n",
       "  <tbody>\n",
       "    <tr>\n",
       "      <th>800</th>\n",
       "      <td>0</td>\n",
       "      <td>0</td>\n",
       "      <td>1</td>\n",
       "    </tr>\n",
       "    <tr>\n",
       "      <th>Activa 3g</th>\n",
       "      <td>0</td>\n",
       "      <td>0</td>\n",
       "      <td>2</td>\n",
       "    </tr>\n",
       "    <tr>\n",
       "      <th>Activa 4g</th>\n",
       "      <td>0</td>\n",
       "      <td>0</td>\n",
       "      <td>1</td>\n",
       "    </tr>\n",
       "    <tr>\n",
       "      <th>Bajaj  ct 100</th>\n",
       "      <td>0</td>\n",
       "      <td>0</td>\n",
       "      <td>1</td>\n",
       "    </tr>\n",
       "    <tr>\n",
       "      <th>Bajaj Avenger 150</th>\n",
       "      <td>0</td>\n",
       "      <td>0</td>\n",
       "      <td>1</td>\n",
       "    </tr>\n",
       "    <tr>\n",
       "      <th>Bajaj Avenger 150 street</th>\n",
       "      <td>0</td>\n",
       "      <td>0</td>\n",
       "      <td>1</td>\n",
       "    </tr>\n",
       "    <tr>\n",
       "      <th>Bajaj Avenger 220</th>\n",
       "      <td>0</td>\n",
       "      <td>0</td>\n",
       "      <td>3</td>\n",
       "    </tr>\n",
       "    <tr>\n",
       "      <th>Bajaj Avenger 220 dtsi</th>\n",
       "      <td>0</td>\n",
       "      <td>0</td>\n",
       "      <td>2</td>\n",
       "    </tr>\n",
       "    <tr>\n",
       "      <th>Bajaj Avenger Street 220</th>\n",
       "      <td>0</td>\n",
       "      <td>0</td>\n",
       "      <td>1</td>\n",
       "    </tr>\n",
       "    <tr>\n",
       "      <th>Bajaj Discover 100</th>\n",
       "      <td>0</td>\n",
       "      <td>0</td>\n",
       "      <td>1</td>\n",
       "    </tr>\n",
       "  </tbody>\n",
       "</table>\n",
       "</div>"
      ],
      "text/plain": [
       "Fuel_Type                 CNG  Diesel  Petrol\n",
       "Car_Name                                     \n",
       "800                         0       0       1\n",
       "Activa 3g                   0       0       2\n",
       "Activa 4g                   0       0       1\n",
       "Bajaj  ct 100               0       0       1\n",
       "Bajaj Avenger 150           0       0       1\n",
       "Bajaj Avenger 150 street    0       0       1\n",
       "Bajaj Avenger 220           0       0       3\n",
       "Bajaj Avenger 220 dtsi      0       0       2\n",
       "Bajaj Avenger Street 220    0       0       1\n",
       "Bajaj Discover 100          0       0       1"
      ]
     },
     "execution_count": 27,
     "metadata": {},
     "output_type": "execute_result"
    }
   ],
   "source": [
    "plot=pd.crosstab(df['Car_Name'],df['Fuel_Type'])\n",
    "plot[:10]"
   ]
  },
  {
   "cell_type": "code",
   "execution_count": 28,
   "id": "ec43682b",
   "metadata": {},
   "outputs": [
    {
     "data": {
      "text/html": [
       "<div>\n",
       "<style scoped>\n",
       "    .dataframe tbody tr th:only-of-type {\n",
       "        vertical-align: middle;\n",
       "    }\n",
       "\n",
       "    .dataframe tbody tr th {\n",
       "        vertical-align: top;\n",
       "    }\n",
       "\n",
       "    .dataframe thead th {\n",
       "        text-align: right;\n",
       "    }\n",
       "</style>\n",
       "<table border=\"1\" class=\"dataframe\">\n",
       "  <thead>\n",
       "    <tr style=\"text-align: right;\">\n",
       "      <th>Transmission</th>\n",
       "      <th>Automatic</th>\n",
       "      <th>Manual</th>\n",
       "    </tr>\n",
       "    <tr>\n",
       "      <th>Car_Name</th>\n",
       "      <th></th>\n",
       "      <th></th>\n",
       "    </tr>\n",
       "  </thead>\n",
       "  <tbody>\n",
       "    <tr>\n",
       "      <th>800</th>\n",
       "      <td>0</td>\n",
       "      <td>1</td>\n",
       "    </tr>\n",
       "    <tr>\n",
       "      <th>Activa 3g</th>\n",
       "      <td>2</td>\n",
       "      <td>0</td>\n",
       "    </tr>\n",
       "    <tr>\n",
       "      <th>Activa 4g</th>\n",
       "      <td>1</td>\n",
       "      <td>0</td>\n",
       "    </tr>\n",
       "    <tr>\n",
       "      <th>Bajaj  ct 100</th>\n",
       "      <td>0</td>\n",
       "      <td>1</td>\n",
       "    </tr>\n",
       "    <tr>\n",
       "      <th>Bajaj Avenger 150</th>\n",
       "      <td>0</td>\n",
       "      <td>1</td>\n",
       "    </tr>\n",
       "    <tr>\n",
       "      <th>Bajaj Avenger 150 street</th>\n",
       "      <td>0</td>\n",
       "      <td>1</td>\n",
       "    </tr>\n",
       "    <tr>\n",
       "      <th>Bajaj Avenger 220</th>\n",
       "      <td>0</td>\n",
       "      <td>3</td>\n",
       "    </tr>\n",
       "    <tr>\n",
       "      <th>Bajaj Avenger 220 dtsi</th>\n",
       "      <td>0</td>\n",
       "      <td>2</td>\n",
       "    </tr>\n",
       "    <tr>\n",
       "      <th>Bajaj Avenger Street 220</th>\n",
       "      <td>0</td>\n",
       "      <td>1</td>\n",
       "    </tr>\n",
       "    <tr>\n",
       "      <th>Bajaj Discover 100</th>\n",
       "      <td>0</td>\n",
       "      <td>1</td>\n",
       "    </tr>\n",
       "  </tbody>\n",
       "</table>\n",
       "</div>"
      ],
      "text/plain": [
       "Transmission              Automatic  Manual\n",
       "Car_Name                                   \n",
       "800                               0       1\n",
       "Activa 3g                         2       0\n",
       "Activa 4g                         1       0\n",
       "Bajaj  ct 100                     0       1\n",
       "Bajaj Avenger 150                 0       1\n",
       "Bajaj Avenger 150 street          0       1\n",
       "Bajaj Avenger 220                 0       3\n",
       "Bajaj Avenger 220 dtsi            0       2\n",
       "Bajaj Avenger Street 220          0       1\n",
       "Bajaj Discover 100                0       1"
      ]
     },
     "execution_count": 28,
     "metadata": {},
     "output_type": "execute_result"
    }
   ],
   "source": [
    "plot_1=pd.crosstab(df['Car_Name'],df['Transmission'])\n",
    "plot_1[:10]"
   ]
  },
  {
   "cell_type": "code",
   "execution_count": 29,
   "id": "6262a7f1",
   "metadata": {},
   "outputs": [
    {
     "data": {
      "text/html": [
       "<div>\n",
       "<style scoped>\n",
       "    .dataframe tbody tr th:only-of-type {\n",
       "        vertical-align: middle;\n",
       "    }\n",
       "\n",
       "    .dataframe tbody tr th {\n",
       "        vertical-align: top;\n",
       "    }\n",
       "\n",
       "    .dataframe thead th {\n",
       "        text-align: right;\n",
       "    }\n",
       "</style>\n",
       "<table border=\"1\" class=\"dataframe\">\n",
       "  <thead>\n",
       "    <tr style=\"text-align: right;\">\n",
       "      <th>Selling_type</th>\n",
       "      <th>Dealer</th>\n",
       "      <th>Individual</th>\n",
       "    </tr>\n",
       "    <tr>\n",
       "      <th>Car_Name</th>\n",
       "      <th></th>\n",
       "      <th></th>\n",
       "    </tr>\n",
       "  </thead>\n",
       "  <tbody>\n",
       "    <tr>\n",
       "      <th>800</th>\n",
       "      <td>0</td>\n",
       "      <td>1</td>\n",
       "    </tr>\n",
       "    <tr>\n",
       "      <th>Activa 3g</th>\n",
       "      <td>0</td>\n",
       "      <td>2</td>\n",
       "    </tr>\n",
       "    <tr>\n",
       "      <th>Activa 4g</th>\n",
       "      <td>0</td>\n",
       "      <td>1</td>\n",
       "    </tr>\n",
       "    <tr>\n",
       "      <th>Bajaj  ct 100</th>\n",
       "      <td>0</td>\n",
       "      <td>1</td>\n",
       "    </tr>\n",
       "    <tr>\n",
       "      <th>Bajaj Avenger 150</th>\n",
       "      <td>0</td>\n",
       "      <td>1</td>\n",
       "    </tr>\n",
       "    <tr>\n",
       "      <th>Bajaj Avenger 150 street</th>\n",
       "      <td>0</td>\n",
       "      <td>1</td>\n",
       "    </tr>\n",
       "    <tr>\n",
       "      <th>Bajaj Avenger 220</th>\n",
       "      <td>0</td>\n",
       "      <td>3</td>\n",
       "    </tr>\n",
       "    <tr>\n",
       "      <th>Bajaj Avenger 220 dtsi</th>\n",
       "      <td>0</td>\n",
       "      <td>2</td>\n",
       "    </tr>\n",
       "    <tr>\n",
       "      <th>Bajaj Avenger Street 220</th>\n",
       "      <td>0</td>\n",
       "      <td>1</td>\n",
       "    </tr>\n",
       "    <tr>\n",
       "      <th>Bajaj Discover 100</th>\n",
       "      <td>0</td>\n",
       "      <td>1</td>\n",
       "    </tr>\n",
       "  </tbody>\n",
       "</table>\n",
       "</div>"
      ],
      "text/plain": [
       "Selling_type              Dealer  Individual\n",
       "Car_Name                                    \n",
       "800                            0           1\n",
       "Activa 3g                      0           2\n",
       "Activa 4g                      0           1\n",
       "Bajaj  ct 100                  0           1\n",
       "Bajaj Avenger 150              0           1\n",
       "Bajaj Avenger 150 street       0           1\n",
       "Bajaj Avenger 220              0           3\n",
       "Bajaj Avenger 220 dtsi         0           2\n",
       "Bajaj Avenger Street 220       0           1\n",
       "Bajaj Discover 100             0           1"
      ]
     },
     "execution_count": 29,
     "metadata": {},
     "output_type": "execute_result"
    }
   ],
   "source": [
    "plot_2=pd.crosstab(df['Car_Name'],df['Selling_type'])\n",
    "plot_2[:10]"
   ]
  },
  {
   "cell_type": "code",
   "execution_count": 30,
   "id": "129f683f",
   "metadata": {},
   "outputs": [
    {
     "data": {
      "text/plain": [
       "<AxesSubplot:xlabel='Fuel_Type', ylabel='Year'>"
      ]
     },
     "execution_count": 30,
     "metadata": {},
     "output_type": "execute_result"
    },
    {
     "data": {
      "image/png": "[encoded data removed]",
      "text/plain": [
       "<Figure size 432x288 with 1 Axes>"
      ]
     },
     "metadata": {
      "needs_background": "light"
     },
     "output_type": "display_data"
    }
   ],
   "source": [
    "sns.boxplot(y=df['Year'],x=df['Fuel_Type'])"
   ]
  },
  {
   "cell_type": "code",
   "execution_count": 31,
   "id": "11314a03",
   "metadata": {},
   "outputs": [
    {
     "data": {
      "text/plain": [
       "<AxesSubplot:xlabel='Transmission', ylabel='Year'>"
      ]
     },
     "execution_count": 31,
     "metadata": {},
     "output_type": "execute_result"
    },
    {
     "data": {
      "image/png": "[encoded data removed]",
      "text/plain": [
       "<Figure size 432x288 with 1 Axes>"
      ]
     },
     "metadata": {
      "needs_background": "light"
     },
     "output_type": "display_data"
    }
   ],
   "source": [
    "sns.boxplot(y=df['Year'],x=df['Transmission'])"
   ]
  },
  {
   "cell_type": "code",
   "execution_count": 32,
   "id": "0b51008f",
   "metadata": {},
   "outputs": [
    {
     "data": {
      "text/plain": [
       "<AxesSubplot:xlabel='Selling_type', ylabel='Year'>"
      ]
     },
     "execution_count": 32,
     "metadata": {},
     "output_type": "execute_result"
    },
    {
     "data": {
      "image/png": "[encoded data removed]",
      "text/plain": [
       "<Figure size 432x288 with 1 Axes>"
      ]
     },
     "metadata": {
      "needs_background": "light"
     },
     "output_type": "display_data"
    }
   ],
   "source": [
    "sns.boxplot(y=df['Year'],x=df['Selling_type'])"
   ]
  },
  {
   "cell_type": "code",
   "execution_count": 33,
   "id": "4ede4644",
   "metadata": {},
   "outputs": [
    {
     "data": {
      "text/plain": [
       "<seaborn.axisgrid.PairGrid at 0x1f49857d6d0>"
      ]
     },
     "execution_count": 33,
     "metadata": {},
     "output_type": "execute_result"
    },
    {
     "data": {
      "image/png": "[encoded data removed]",
      "text/plain": [
       "<Figure size 900x900 with 30 Axes>"
      ]
     },
     "metadata": {
      "needs_background": "light"
     },
     "output_type": "display_data"
    }
   ],
   "source": [
    "sns.pairplot(df)"
   ]
  },
  {
   "cell_type": "code",
   "execution_count": 34,
   "id": "eb0b7ff2",
   "metadata": {},
   "outputs": [
    {
     "data": {
      "text/plain": [
       "<AxesSubplot:xlabel='Year', ylabel='Transmission'>"
      ]
     },
     "execution_count": 34,
     "metadata": {},
     "output_type": "execute_result"
    },
    {
     "data": {
      "image/png": "[encoded data removed]",
      "text/plain": [
       "<Figure size 432x288 with 1 Axes>"
      ]
     },
     "metadata": {
      "needs_background": "light"
     },
     "output_type": "display_data"
    }
   ],
   "source": [
    "sns.lineplot(x=df['Year'], y=df['Transmission'],hue=df['Fuel_Type'])"
   ]
  },
  {
   "cell_type": "code",
   "execution_count": 35,
   "id": "9ab2b4ac",
   "metadata": {},
   "outputs": [
    {
     "data": {
      "text/plain": [
       "<AxesSubplot:xlabel='Year', ylabel='Fuel_Type'>"
      ]
     },
     "execution_count": 35,
     "metadata": {},
     "output_type": "execute_result"
    },
    {
     "data": {
      "image/png": "[encoded data removed]",
      "text/plain": [
       "<Figure size 432x288 with 1 Axes>"
      ]
     },
     "metadata": {
      "needs_background": "light"
     },
     "output_type": "display_data"
    }
   ],
   "source": [
    "sns.lineplot(x=df['Year'], y=df['Fuel_Type'], hue=df['Transmission'])"
   ]
  },
  {
   "cell_type": "code",
   "execution_count": 36,
   "id": "fc8de2ed",
   "metadata": {},
   "outputs": [
    {
     "data": {
      "text/plain": [
       "<seaborn.axisgrid.FacetGrid at 0x1f4992cd370>"
      ]
     },
     "execution_count": 36,
     "metadata": {},
     "output_type": "execute_result"
    },
    {
     "data": {
      "image/png": "[encoded data removed]",
      "text/plain": [
       "<Figure size 447.125x360 with 1 Axes>"
      ]
     },
     "metadata": {
      "needs_background": "light"
     },
     "output_type": "display_data"
    }
   ],
   "source": [
    "sns.relplot(x=df['Year'], y=df['Fuel_Type'], hue=df['Transmission'])"
   ]
  },
  {
   "cell_type": "code",
   "execution_count": 37,
   "id": "f8d749ba",
   "metadata": {},
   "outputs": [
    {
     "data": {
      "text/plain": [
       "<seaborn.axisgrid.JointGrid at 0x1f499304910>"
      ]
     },
     "execution_count": 37,
     "metadata": {},
     "output_type": "execute_result"
    },
    {
     "data": {
      "image/png": "[encoded data removed]",
      "text/plain": [
       "<Figure size 432x432 with 3 Axes>"
      ]
     },
     "metadata": {
      "needs_background": "light"
     },
     "output_type": "display_data"
    }
   ],
   "source": [
    "sns.jointplot(x=df['Year'], y=df['Fuel_Type'])"
   ]
  },
  {
   "cell_type": "code",
   "execution_count": 38,
   "id": "7cb0010d",
   "metadata": {},
   "outputs": [
    {
     "data": {
      "text/plain": [
       "<seaborn.axisgrid.JointGrid at 0x1f49a8aacd0>"
      ]
     },
     "execution_count": 38,
     "metadata": {},
     "output_type": "execute_result"
    },
    {
     "data": {
      "image/png": "[encoded data removed]",
      "text/plain": [
       "<Figure size 432x432 with 3 Axes>"
      ]
     },
     "metadata": {
      "needs_background": "light"
     },
     "output_type": "display_data"
    }
   ],
   "source": [
    "sns.jointplot(x=df['Year'], y=df['Transmission'])"
   ]
  },
  {
   "cell_type": "code",
   "execution_count": 39,
   "id": "cc5172fc",
   "metadata": {},
   "outputs": [
    {
     "data": {
      "text/plain": [
       "<AxesSubplot:xlabel='Year', ylabel='Count'>"
      ]
     },
     "execution_count": 39,
     "metadata": {},
     "output_type": "execute_result"
    },
    {
     "data": {
      "image/png": "[encoded data removed]",
      "text/plain": [
       "<Figure size 432x288 with 1 Axes>"
      ]
     },
     "metadata": {
      "needs_background": "light"
     },
     "output_type": "display_data"
    }
   ],
   "source": [
    "sns.histplot(x=df['Year'],hue=df['Selling_type'],kde=True)"
   ]
  },
  {
   "cell_type": "code",
   "execution_count": 40,
   "id": "d63dce50",
   "metadata": {},
   "outputs": [
    {
     "data": {
      "text/plain": [
       "<AxesSubplot:xlabel='Year', ylabel='Count'>"
      ]
     },
     "execution_count": 40,
     "metadata": {},
     "output_type": "execute_result"
    },
    {
     "data": {
      "image/png": "[encoded data removed]",
      "text/plain": [
       "<Figure size 432x288 with 1 Axes>"
      ]
     },
     "metadata": {
      "needs_background": "light"
     },
     "output_type": "display_data"
    }
   ],
   "source": [
    "sns.histplot(x=df['Year'],hue=df['Fuel_Type'], kde=True)"
   ]
  },
  {
   "cell_type": "code",
   "execution_count": 41,
   "id": "c54426cd",
   "metadata": {},
   "outputs": [
    {
     "data": {
      "text/plain": [
       "<seaborn.axisgrid.FacetGrid at 0x1f49aba88b0>"
      ]
     },
     "execution_count": 41,
     "metadata": {},
     "output_type": "execute_result"
    },
    {
     "data": {
      "image/png": "[encoded data removed]",
      "text/plain": [
       "<Figure size 447.125x360 with 1 Axes>"
      ]
     },
     "metadata": {
      "needs_background": "light"
     },
     "output_type": "display_data"
    }
   ],
   "source": [
    "sns.displot(x=df['Year'],hue=df['Transmission'])"
   ]
  },
  {
   "cell_type": "code",
   "execution_count": 42,
   "id": "f8c675f6",
   "metadata": {},
   "outputs": [
    {
     "data": {
      "text/plain": [
       "<AxesSubplot:xlabel='Owner', ylabel='count'>"
      ]
     },
     "execution_count": 42,
     "metadata": {},
     "output_type": "execute_result"
    },
    {
     "data": {
      "image/png": "[encoded data removed]",
      "text/plain": [
       "<Figure size 432x288 with 1 Axes>"
      ]
     },
     "metadata": {
      "needs_background": "light"
     },
     "output_type": "display_data"
    }
   ],
   "source": [
    "sns.countplot(x=df['Owner'],hue=df['Selling_type'])"
   ]
  },
  {
   "cell_type": "code",
   "execution_count": 43,
   "id": "4a34ab72",
   "metadata": {},
   "outputs": [
    {
     "data": {
      "text/plain": [
       "<AxesSubplot:xlabel='Owner', ylabel='count'>"
      ]
     },
     "execution_count": 43,
     "metadata": {},
     "output_type": "execute_result"
    },
    {
     "data": {
      "image/png": "[encoded data removed]",
      "text/plain": [
       "<Figure size 432x288 with 1 Axes>"
      ]
     },
     "metadata": {
      "needs_background": "light"
     },
     "output_type": "display_data"
    }
   ],
   "source": [
    "sns.countplot(x=df['Owner'],hue=df['Fuel_Type'])"
   ]
  },
  {
   "cell_type": "code",
   "execution_count": 44,
   "id": "b28b0026",
   "metadata": {},
   "outputs": [
    {
     "data": {
      "text/html": [
       "<div>\n",
       "<style scoped>\n",
       "    .dataframe tbody tr th:only-of-type {\n",
       "        vertical-align: middle;\n",
       "    }\n",
       "\n",
       "    .dataframe tbody tr th {\n",
       "        vertical-align: top;\n",
       "    }\n",
       "\n",
       "    .dataframe thead th {\n",
       "        text-align: right;\n",
       "    }\n",
       "</style>\n",
       "<table border=\"1\" class=\"dataframe\">\n",
       "  <thead>\n",
       "    <tr style=\"text-align: right;\">\n",
       "      <th></th>\n",
       "      <th>Car_Name</th>\n",
       "      <th>Year</th>\n",
       "      <th>Selling_Price</th>\n",
       "      <th>Present_Price</th>\n",
       "      <th>Driven_kms</th>\n",
       "      <th>Fuel_Type</th>\n",
       "      <th>Selling_type</th>\n",
       "      <th>Transmission</th>\n",
       "      <th>Owner</th>\n",
       "    </tr>\n",
       "  </thead>\n",
       "  <tbody>\n",
       "    <tr>\n",
       "      <th>0</th>\n",
       "      <td>ritz</td>\n",
       "      <td>2014</td>\n",
       "      <td>3.35</td>\n",
       "      <td>5.59</td>\n",
       "      <td>27000</td>\n",
       "      <td>Petrol</td>\n",
       "      <td>Dealer</td>\n",
       "      <td>Manual</td>\n",
       "      <td>0</td>\n",
       "    </tr>\n",
       "    <tr>\n",
       "      <th>1</th>\n",
       "      <td>sx4</td>\n",
       "      <td>2013</td>\n",
       "      <td>4.75</td>\n",
       "      <td>9.54</td>\n",
       "      <td>43000</td>\n",
       "      <td>Diesel</td>\n",
       "      <td>Dealer</td>\n",
       "      <td>Manual</td>\n",
       "      <td>0</td>\n",
       "    </tr>\n",
       "    <tr>\n",
       "      <th>2</th>\n",
       "      <td>ciaz</td>\n",
       "      <td>2017</td>\n",
       "      <td>7.25</td>\n",
       "      <td>9.85</td>\n",
       "      <td>6900</td>\n",
       "      <td>Petrol</td>\n",
       "      <td>Dealer</td>\n",
       "      <td>Manual</td>\n",
       "      <td>0</td>\n",
       "    </tr>\n",
       "    <tr>\n",
       "      <th>3</th>\n",
       "      <td>wagon r</td>\n",
       "      <td>2011</td>\n",
       "      <td>2.85</td>\n",
       "      <td>4.15</td>\n",
       "      <td>5200</td>\n",
       "      <td>Petrol</td>\n",
       "      <td>Dealer</td>\n",
       "      <td>Manual</td>\n",
       "      <td>0</td>\n",
       "    </tr>\n",
       "    <tr>\n",
       "      <th>4</th>\n",
       "      <td>swift</td>\n",
       "      <td>2014</td>\n",
       "      <td>4.60</td>\n",
       "      <td>6.87</td>\n",
       "      <td>42450</td>\n",
       "      <td>Diesel</td>\n",
       "      <td>Dealer</td>\n",
       "      <td>Manual</td>\n",
       "      <td>0</td>\n",
       "    </tr>\n",
       "    <tr>\n",
       "      <th>...</th>\n",
       "      <td>...</td>\n",
       "      <td>...</td>\n",
       "      <td>...</td>\n",
       "      <td>...</td>\n",
       "      <td>...</td>\n",
       "      <td>...</td>\n",
       "      <td>...</td>\n",
       "      <td>...</td>\n",
       "      <td>...</td>\n",
       "    </tr>\n",
       "    <tr>\n",
       "      <th>296</th>\n",
       "      <td>city</td>\n",
       "      <td>2016</td>\n",
       "      <td>9.50</td>\n",
       "      <td>11.60</td>\n",
       "      <td>33988</td>\n",
       "      <td>Diesel</td>\n",
       "      <td>Dealer</td>\n",
       "      <td>Manual</td>\n",
       "      <td>0</td>\n",
       "    </tr>\n",
       "    <tr>\n",
       "      <th>297</th>\n",
       "      <td>brio</td>\n",
       "      <td>2015</td>\n",
       "      <td>4.00</td>\n",
       "      <td>5.90</td>\n",
       "      <td>60000</td>\n",
       "      <td>Petrol</td>\n",
       "      <td>Dealer</td>\n",
       "      <td>Manual</td>\n",
       "      <td>0</td>\n",
       "    </tr>\n",
       "    <tr>\n",
       "      <th>298</th>\n",
       "      <td>city</td>\n",
       "      <td>2009</td>\n",
       "      <td>3.35</td>\n",
       "      <td>11.00</td>\n",
       "      <td>87934</td>\n",
       "      <td>Petrol</td>\n",
       "      <td>Dealer</td>\n",
       "      <td>Manual</td>\n",
       "      <td>0</td>\n",
       "    </tr>\n",
       "    <tr>\n",
       "      <th>299</th>\n",
       "      <td>city</td>\n",
       "      <td>2017</td>\n",
       "      <td>11.50</td>\n",
       "      <td>12.50</td>\n",
       "      <td>9000</td>\n",
       "      <td>Diesel</td>\n",
       "      <td>Dealer</td>\n",
       "      <td>Manual</td>\n",
       "      <td>0</td>\n",
       "    </tr>\n",
       "    <tr>\n",
       "      <th>300</th>\n",
       "      <td>brio</td>\n",
       "      <td>2016</td>\n",
       "      <td>5.30</td>\n",
       "      <td>5.90</td>\n",
       "      <td>5464</td>\n",
       "      <td>Petrol</td>\n",
       "      <td>Dealer</td>\n",
       "      <td>Manual</td>\n",
       "      <td>0</td>\n",
       "    </tr>\n",
       "  </tbody>\n",
       "</table>\n",
       "<p>301 rows × 9 columns</p>\n",
       "</div>"
      ],
      "text/plain": [
       "    Car_Name  Year  Selling_Price  Present_Price  Driven_kms Fuel_Type  \\\n",
       "0       ritz  2014           3.35           5.59       27000    Petrol   \n",
       "1        sx4  2013           4.75           9.54       43000    Diesel   \n",
       "2       ciaz  2017           7.25           9.85        6900    Petrol   \n",
       "3    wagon r  2011           2.85           4.15        5200    Petrol   \n",
       "4      swift  2014           4.60           6.87       42450    Diesel   \n",
       "..       ...   ...            ...            ...         ...       ...   \n",
       "296     city  2016           9.50          11.60       33988    Diesel   \n",
       "297     brio  2015           4.00           5.90       60000    Petrol   \n",
       "298     city  2009           3.35          11.00       87934    Petrol   \n",
       "299     city  2017          11.50          12.50        9000    Diesel   \n",
       "300     brio  2016           5.30           5.90        5464    Petrol   \n",
       "\n",
       "    Selling_type Transmission  Owner  \n",
       "0         Dealer       Manual      0  \n",
       "1         Dealer       Manual      0  \n",
       "2         Dealer       Manual      0  \n",
       "3         Dealer       Manual      0  \n",
       "4         Dealer       Manual      0  \n",
       "..           ...          ...    ...  \n",
       "296       Dealer       Manual      0  \n",
       "297       Dealer       Manual      0  \n",
       "298       Dealer       Manual      0  \n",
       "299       Dealer       Manual      0  \n",
       "300       Dealer       Manual      0  \n",
       "\n",
       "[301 rows x 9 columns]"
      ]
     },
     "execution_count": 44,
     "metadata": {},
     "output_type": "execute_result"
    }
   ],
   "source": [
    "df"
   ]
  },
  {
   "cell_type": "markdown",
   "id": "b364a076",
   "metadata": {},
   "source": [
    "# define x and y"
   ]
  },
  {
   "cell_type": "code",
   "execution_count": 45,
   "id": "6053eafc",
   "metadata": {},
   "outputs": [],
   "source": [
    "x=df.drop(['Selling_Price'],axis=1)\n",
    "y=df['Selling_Price']"
   ]
  },
  {
   "cell_type": "code",
   "execution_count": 46,
   "id": "7d6a66c3",
   "metadata": {
    "scrolled": true
   },
   "outputs": [
    {
     "data": {
      "text/html": [
       "<div>\n",
       "<style scoped>\n",
       "    .dataframe tbody tr th:only-of-type {\n",
       "        vertical-align: middle;\n",
       "    }\n",
       "\n",
       "    .dataframe tbody tr th {\n",
       "        vertical-align: top;\n",
       "    }\n",
       "\n",
       "    .dataframe thead th {\n",
       "        text-align: right;\n",
       "    }\n",
       "</style>\n",
       "<table border=\"1\" class=\"dataframe\">\n",
       "  <thead>\n",
       "    <tr style=\"text-align: right;\">\n",
       "      <th></th>\n",
       "      <th>Car_Name</th>\n",
       "      <th>Year</th>\n",
       "      <th>Present_Price</th>\n",
       "      <th>Driven_kms</th>\n",
       "      <th>Fuel_Type</th>\n",
       "      <th>Selling_type</th>\n",
       "      <th>Transmission</th>\n",
       "      <th>Owner</th>\n",
       "    </tr>\n",
       "  </thead>\n",
       "  <tbody>\n",
       "    <tr>\n",
       "      <th>0</th>\n",
       "      <td>ritz</td>\n",
       "      <td>2014</td>\n",
       "      <td>5.59</td>\n",
       "      <td>27000</td>\n",
       "      <td>Petrol</td>\n",
       "      <td>Dealer</td>\n",
       "      <td>Manual</td>\n",
       "      <td>0</td>\n",
       "    </tr>\n",
       "    <tr>\n",
       "      <th>1</th>\n",
       "      <td>sx4</td>\n",
       "      <td>2013</td>\n",
       "      <td>9.54</td>\n",
       "      <td>43000</td>\n",
       "      <td>Diesel</td>\n",
       "      <td>Dealer</td>\n",
       "      <td>Manual</td>\n",
       "      <td>0</td>\n",
       "    </tr>\n",
       "    <tr>\n",
       "      <th>2</th>\n",
       "      <td>ciaz</td>\n",
       "      <td>2017</td>\n",
       "      <td>9.85</td>\n",
       "      <td>6900</td>\n",
       "      <td>Petrol</td>\n",
       "      <td>Dealer</td>\n",
       "      <td>Manual</td>\n",
       "      <td>0</td>\n",
       "    </tr>\n",
       "    <tr>\n",
       "      <th>3</th>\n",
       "      <td>wagon r</td>\n",
       "      <td>2011</td>\n",
       "      <td>4.15</td>\n",
       "      <td>5200</td>\n",
       "      <td>Petrol</td>\n",
       "      <td>Dealer</td>\n",
       "      <td>Manual</td>\n",
       "      <td>0</td>\n",
       "    </tr>\n",
       "    <tr>\n",
       "      <th>4</th>\n",
       "      <td>swift</td>\n",
       "      <td>2014</td>\n",
       "      <td>6.87</td>\n",
       "      <td>42450</td>\n",
       "      <td>Diesel</td>\n",
       "      <td>Dealer</td>\n",
       "      <td>Manual</td>\n",
       "      <td>0</td>\n",
       "    </tr>\n",
       "    <tr>\n",
       "      <th>...</th>\n",
       "      <td>...</td>\n",
       "      <td>...</td>\n",
       "      <td>...</td>\n",
       "      <td>...</td>\n",
       "      <td>...</td>\n",
       "      <td>...</td>\n",
       "      <td>...</td>\n",
       "      <td>...</td>\n",
       "    </tr>\n",
       "    <tr>\n",
       "      <th>296</th>\n",
       "      <td>city</td>\n",
       "      <td>2016</td>\n",
       "      <td>11.60</td>\n",
       "      <td>33988</td>\n",
       "      <td>Diesel</td>\n",
       "      <td>Dealer</td>\n",
       "      <td>Manual</td>\n",
       "      <td>0</td>\n",
       "    </tr>\n",
       "    <tr>\n",
       "      <th>297</th>\n",
       "      <td>brio</td>\n",
       "      <td>2015</td>\n",
       "      <td>5.90</td>\n",
       "      <td>60000</td>\n",
       "      <td>Petrol</td>\n",
       "      <td>Dealer</td>\n",
       "      <td>Manual</td>\n",
       "      <td>0</td>\n",
       "    </tr>\n",
       "    <tr>\n",
       "      <th>298</th>\n",
       "      <td>city</td>\n",
       "      <td>2009</td>\n",
       "      <td>11.00</td>\n",
       "      <td>87934</td>\n",
       "      <td>Petrol</td>\n",
       "      <td>Dealer</td>\n",
       "      <td>Manual</td>\n",
       "      <td>0</td>\n",
       "    </tr>\n",
       "    <tr>\n",
       "      <th>299</th>\n",
       "      <td>city</td>\n",
       "      <td>2017</td>\n",
       "      <td>12.50</td>\n",
       "      <td>9000</td>\n",
       "      <td>Diesel</td>\n",
       "      <td>Dealer</td>\n",
       "      <td>Manual</td>\n",
       "      <td>0</td>\n",
       "    </tr>\n",
       "    <tr>\n",
       "      <th>300</th>\n",
       "      <td>brio</td>\n",
       "      <td>2016</td>\n",
       "      <td>5.90</td>\n",
       "      <td>5464</td>\n",
       "      <td>Petrol</td>\n",
       "      <td>Dealer</td>\n",
       "      <td>Manual</td>\n",
       "      <td>0</td>\n",
       "    </tr>\n",
       "  </tbody>\n",
       "</table>\n",
       "<p>301 rows × 8 columns</p>\n",
       "</div>"
      ],
      "text/plain": [
       "    Car_Name  Year  Present_Price  Driven_kms Fuel_Type Selling_type  \\\n",
       "0       ritz  2014           5.59       27000    Petrol       Dealer   \n",
       "1        sx4  2013           9.54       43000    Diesel       Dealer   \n",
       "2       ciaz  2017           9.85        6900    Petrol       Dealer   \n",
       "3    wagon r  2011           4.15        5200    Petrol       Dealer   \n",
       "4      swift  2014           6.87       42450    Diesel       Dealer   \n",
       "..       ...   ...            ...         ...       ...          ...   \n",
       "296     city  2016          11.60       33988    Diesel       Dealer   \n",
       "297     brio  2015           5.90       60000    Petrol       Dealer   \n",
       "298     city  2009          11.00       87934    Petrol       Dealer   \n",
       "299     city  2017          12.50        9000    Diesel       Dealer   \n",
       "300     brio  2016           5.90        5464    Petrol       Dealer   \n",
       "\n",
       "    Transmission  Owner  \n",
       "0         Manual      0  \n",
       "1         Manual      0  \n",
       "2         Manual      0  \n",
       "3         Manual      0  \n",
       "4         Manual      0  \n",
       "..           ...    ...  \n",
       "296       Manual      0  \n",
       "297       Manual      0  \n",
       "298       Manual      0  \n",
       "299       Manual      0  \n",
       "300       Manual      0  \n",
       "\n",
       "[301 rows x 8 columns]"
      ]
     },
     "execution_count": 46,
     "metadata": {},
     "output_type": "execute_result"
    }
   ],
   "source": [
    "x"
   ]
  },
  {
   "cell_type": "code",
   "execution_count": 47,
   "id": "6958f1cf",
   "metadata": {},
   "outputs": [
    {
     "data": {
      "text/plain": [
       "0       3.35\n",
       "1       4.75\n",
       "2       7.25\n",
       "3       2.85\n",
       "4       4.60\n",
       "       ...  \n",
       "296     9.50\n",
       "297     4.00\n",
       "298     3.35\n",
       "299    11.50\n",
       "300     5.30\n",
       "Name: Selling_Price, Length: 301, dtype: float64"
      ]
     },
     "execution_count": 47,
     "metadata": {},
     "output_type": "execute_result"
    }
   ],
   "source": [
    "y"
   ]
  },
  {
   "cell_type": "markdown",
   "id": "ea18ff67",
   "metadata": {},
   "source": [
    "# Preproccsing"
   ]
  },
  {
   "cell_type": "code",
   "execution_count": 48,
   "id": "69adce51",
   "metadata": {},
   "outputs": [],
   "source": [
    "cat=[]\n",
    "con=[]\n",
    "for i in x.columns:\n",
    "    if x[i].dtypes=='object':\n",
    "        cat.append(i)\n",
    "    else:\n",
    "        con.append(i)"
   ]
  },
  {
   "cell_type": "code",
   "execution_count": 49,
   "id": "58b694b9",
   "metadata": {},
   "outputs": [
    {
     "data": {
      "text/plain": [
       "['Car_Name', 'Fuel_Type', 'Selling_type', 'Transmission']"
      ]
     },
     "execution_count": 49,
     "metadata": {},
     "output_type": "execute_result"
    }
   ],
   "source": [
    "cat"
   ]
  },
  {
   "cell_type": "code",
   "execution_count": 50,
   "id": "1e4ed31a",
   "metadata": {},
   "outputs": [
    {
     "data": {
      "text/plain": [
       "['Year', 'Present_Price', 'Driven_kms', 'Owner']"
      ]
     },
     "execution_count": 50,
     "metadata": {},
     "output_type": "execute_result"
    }
   ],
   "source": [
    "con"
   ]
  },
  {
   "cell_type": "code",
   "execution_count": 52,
   "id": "b764dc81",
   "metadata": {},
   "outputs": [
    {
     "name": "stdout",
     "output_type": "stream",
     "text": [
      "Pipeline(steps=[('imputer', SimpleImputer(strategy='most_frequent')),\n",
      "                ('encoder', OrdinalEncoder())])\n",
      "______________________________\n",
      "Pipeline(steps=[('imputer', SimpleImputer()), ('scaler', StandardScaler())])\n",
      "______________________________\n",
      "ColumnTransformer(transformers=[('cat_pipp',\n",
      "                                 Pipeline(steps=[('imputer',\n",
      "                                                  SimpleImputer(strategy='most_frequent')),\n",
      "                                                 ('encoder',\n",
      "                                                  OrdinalEncoder())]),\n",
      "                                 ['Car_Name', 'Fuel_Type', 'Selling_type',\n",
      "                                  'Transmission']),\n",
      "                                ('con_pipp',\n",
      "                                 Pipeline(steps=[('imputer', SimpleImputer()),\n",
      "                                                 ('scaler', StandardScaler())]),\n",
      "                                 ['Year', 'Present_Price', 'Driven_kms',\n",
      "                                  'Owner'])])\n"
     ]
    }
   ],
   "source": [
    "cat_pip=Pipeline(steps=([('imputer',SimpleImputer(strategy='most_frequent')),('encoder',OrdinalEncoder())]))\n",
    "print(cat_pip)\n",
    "print('_'*30)\n",
    "\n",
    "con_pip=Pipeline(steps=([('imputer',SimpleImputer(strategy='mean')),('scaler',StandardScaler())]))\n",
    "print(con_pip)\n",
    "print('_'*30)\n",
    "\n",
    "pre=ColumnTransformer([('cat_pipp',cat_pip,cat),('con_pipp',con_pip,con)])\n",
    "print(pre)\n"
   ]
  },
  {
   "cell_type": "code",
   "execution_count": 53,
   "id": "b370f2a9",
   "metadata": {},
   "outputs": [
    {
     "data": {
      "text/html": [
       "<div>\n",
       "<style scoped>\n",
       "    .dataframe tbody tr th:only-of-type {\n",
       "        vertical-align: middle;\n",
       "    }\n",
       "\n",
       "    .dataframe tbody tr th {\n",
       "        vertical-align: top;\n",
       "    }\n",
       "\n",
       "    .dataframe thead th {\n",
       "        text-align: right;\n",
       "    }\n",
       "</style>\n",
       "<table border=\"1\" class=\"dataframe\">\n",
       "  <thead>\n",
       "    <tr style=\"text-align: right;\">\n",
       "      <th></th>\n",
       "      <th>cat_pipp__Car_Name</th>\n",
       "      <th>cat_pipp__Fuel_Type</th>\n",
       "      <th>cat_pipp__Selling_type</th>\n",
       "      <th>cat_pipp__Transmission</th>\n",
       "      <th>con_pipp__Year</th>\n",
       "      <th>con_pipp__Present_Price</th>\n",
       "      <th>con_pipp__Driven_kms</th>\n",
       "      <th>con_pipp__Owner</th>\n",
       "    </tr>\n",
       "  </thead>\n",
       "  <tbody>\n",
       "    <tr>\n",
       "      <th>0</th>\n",
       "      <td>90.0</td>\n",
       "      <td>2.0</td>\n",
       "      <td>0.0</td>\n",
       "      <td>1.0</td>\n",
       "      <td>0.128897</td>\n",
       "      <td>-0.236256</td>\n",
       "      <td>-0.256224</td>\n",
       "      <td>-0.174501</td>\n",
       "    </tr>\n",
       "    <tr>\n",
       "      <th>1</th>\n",
       "      <td>93.0</td>\n",
       "      <td>1.0</td>\n",
       "      <td>0.0</td>\n",
       "      <td>1.0</td>\n",
       "      <td>-0.217514</td>\n",
       "      <td>0.221544</td>\n",
       "      <td>0.155911</td>\n",
       "      <td>-0.174501</td>\n",
       "    </tr>\n",
       "    <tr>\n",
       "      <th>2</th>\n",
       "      <td>68.0</td>\n",
       "      <td>2.0</td>\n",
       "      <td>0.0</td>\n",
       "      <td>1.0</td>\n",
       "      <td>1.168129</td>\n",
       "      <td>0.257472</td>\n",
       "      <td>-0.773969</td>\n",
       "      <td>-0.174501</td>\n",
       "    </tr>\n",
       "    <tr>\n",
       "      <th>3</th>\n",
       "      <td>96.0</td>\n",
       "      <td>2.0</td>\n",
       "      <td>0.0</td>\n",
       "      <td>1.0</td>\n",
       "      <td>-0.910335</td>\n",
       "      <td>-0.403151</td>\n",
       "      <td>-0.817758</td>\n",
       "      <td>-0.174501</td>\n",
       "    </tr>\n",
       "    <tr>\n",
       "      <th>4</th>\n",
       "      <td>92.0</td>\n",
       "      <td>1.0</td>\n",
       "      <td>0.0</td>\n",
       "      <td>1.0</td>\n",
       "      <td>0.128897</td>\n",
       "      <td>-0.087906</td>\n",
       "      <td>0.141743</td>\n",
       "      <td>-0.174501</td>\n",
       "    </tr>\n",
       "    <tr>\n",
       "      <th>...</th>\n",
       "      <td>...</td>\n",
       "      <td>...</td>\n",
       "      <td>...</td>\n",
       "      <td>...</td>\n",
       "      <td>...</td>\n",
       "      <td>...</td>\n",
       "      <td>...</td>\n",
       "      <td>...</td>\n",
       "    </tr>\n",
       "    <tr>\n",
       "      <th>296</th>\n",
       "      <td>69.0</td>\n",
       "      <td>1.0</td>\n",
       "      <td>0.0</td>\n",
       "      <td>1.0</td>\n",
       "      <td>0.821718</td>\n",
       "      <td>0.460295</td>\n",
       "      <td>-0.076225</td>\n",
       "      <td>-0.174501</td>\n",
       "    </tr>\n",
       "    <tr>\n",
       "      <th>297</th>\n",
       "      <td>66.0</td>\n",
       "      <td>2.0</td>\n",
       "      <td>0.0</td>\n",
       "      <td>1.0</td>\n",
       "      <td>0.475308</td>\n",
       "      <td>-0.200328</td>\n",
       "      <td>0.593804</td>\n",
       "      <td>-0.174501</td>\n",
       "    </tr>\n",
       "    <tr>\n",
       "      <th>298</th>\n",
       "      <td>69.0</td>\n",
       "      <td>2.0</td>\n",
       "      <td>0.0</td>\n",
       "      <td>1.0</td>\n",
       "      <td>-1.603156</td>\n",
       "      <td>0.390756</td>\n",
       "      <td>1.313340</td>\n",
       "      <td>-0.174501</td>\n",
       "    </tr>\n",
       "    <tr>\n",
       "      <th>299</th>\n",
       "      <td>69.0</td>\n",
       "      <td>1.0</td>\n",
       "      <td>0.0</td>\n",
       "      <td>1.0</td>\n",
       "      <td>1.168129</td>\n",
       "      <td>0.564604</td>\n",
       "      <td>-0.719876</td>\n",
       "      <td>-0.174501</td>\n",
       "    </tr>\n",
       "    <tr>\n",
       "      <th>300</th>\n",
       "      <td>66.0</td>\n",
       "      <td>2.0</td>\n",
       "      <td>0.0</td>\n",
       "      <td>1.0</td>\n",
       "      <td>0.821718</td>\n",
       "      <td>-0.200328</td>\n",
       "      <td>-0.810958</td>\n",
       "      <td>-0.174501</td>\n",
       "    </tr>\n",
       "  </tbody>\n",
       "</table>\n",
       "<p>301 rows × 8 columns</p>\n",
       "</div>"
      ],
      "text/plain": [
       "     cat_pipp__Car_Name  cat_pipp__Fuel_Type  cat_pipp__Selling_type  \\\n",
       "0                  90.0                  2.0                     0.0   \n",
       "1                  93.0                  1.0                     0.0   \n",
       "2                  68.0                  2.0                     0.0   \n",
       "3                  96.0                  2.0                     0.0   \n",
       "4                  92.0                  1.0                     0.0   \n",
       "..                  ...                  ...                     ...   \n",
       "296                69.0                  1.0                     0.0   \n",
       "297                66.0                  2.0                     0.0   \n",
       "298                69.0                  2.0                     0.0   \n",
       "299                69.0                  1.0                     0.0   \n",
       "300                66.0                  2.0                     0.0   \n",
       "\n",
       "     cat_pipp__Transmission  con_pipp__Year  con_pipp__Present_Price  \\\n",
       "0                       1.0        0.128897                -0.236256   \n",
       "1                       1.0       -0.217514                 0.221544   \n",
       "2                       1.0        1.168129                 0.257472   \n",
       "3                       1.0       -0.910335                -0.403151   \n",
       "4                       1.0        0.128897                -0.087906   \n",
       "..                      ...             ...                      ...   \n",
       "296                     1.0        0.821718                 0.460295   \n",
       "297                     1.0        0.475308                -0.200328   \n",
       "298                     1.0       -1.603156                 0.390756   \n",
       "299                     1.0        1.168129                 0.564604   \n",
       "300                     1.0        0.821718                -0.200328   \n",
       "\n",
       "     con_pipp__Driven_kms  con_pipp__Owner  \n",
       "0               -0.256224        -0.174501  \n",
       "1                0.155911        -0.174501  \n",
       "2               -0.773969        -0.174501  \n",
       "3               -0.817758        -0.174501  \n",
       "4                0.141743        -0.174501  \n",
       "..                    ...              ...  \n",
       "296             -0.076225        -0.174501  \n",
       "297              0.593804        -0.174501  \n",
       "298              1.313340        -0.174501  \n",
       "299             -0.719876        -0.174501  \n",
       "300             -0.810958        -0.174501  \n",
       "\n",
       "[301 rows x 8 columns]"
      ]
     },
     "execution_count": 53,
     "metadata": {},
     "output_type": "execute_result"
    }
   ],
   "source": [
    "x_feat=pd.DataFrame(pre.fit_transform(x),columns=pre.get_feature_names_out())\n",
    "x_feat"
   ]
  },
  {
   "cell_type": "code",
   "execution_count": null,
   "id": "ff26e1d6",
   "metadata": {},
   "outputs": [],
   "source": []
  },
  {
   "cell_type": "markdown",
   "id": "b9e115d6",
   "metadata": {},
   "source": [
    "# Split"
   ]
  },
  {
   "cell_type": "code",
   "execution_count": 55,
   "id": "042f69d8",
   "metadata": {},
   "outputs": [],
   "source": [
    "x_train,x_test,y_train,y_test= train_test_split(x_feat,y,test_size=0.15,random_state=36)"
   ]
  },
  {
   "cell_type": "code",
   "execution_count": 56,
   "id": "8b8747ff",
   "metadata": {},
   "outputs": [
    {
     "data": {
      "text/html": [
       "<div>\n",
       "<style scoped>\n",
       "    .dataframe tbody tr th:only-of-type {\n",
       "        vertical-align: middle;\n",
       "    }\n",
       "\n",
       "    .dataframe tbody tr th {\n",
       "        vertical-align: top;\n",
       "    }\n",
       "\n",
       "    .dataframe thead th {\n",
       "        text-align: right;\n",
       "    }\n",
       "</style>\n",
       "<table border=\"1\" class=\"dataframe\">\n",
       "  <thead>\n",
       "    <tr style=\"text-align: right;\">\n",
       "      <th></th>\n",
       "      <th>cat_pipp__Car_Name</th>\n",
       "      <th>cat_pipp__Fuel_Type</th>\n",
       "      <th>cat_pipp__Selling_type</th>\n",
       "      <th>cat_pipp__Transmission</th>\n",
       "      <th>con_pipp__Year</th>\n",
       "      <th>con_pipp__Present_Price</th>\n",
       "      <th>con_pipp__Driven_kms</th>\n",
       "      <th>con_pipp__Owner</th>\n",
       "    </tr>\n",
       "  </thead>\n",
       "  <tbody>\n",
       "    <tr>\n",
       "      <th>57</th>\n",
       "      <td>71.0</td>\n",
       "      <td>2.0</td>\n",
       "      <td>0.0</td>\n",
       "      <td>1.0</td>\n",
       "      <td>-1.256746</td>\n",
       "      <td>1.264633</td>\n",
       "      <td>0.336220</td>\n",
       "      <td>-0.174501</td>\n",
       "    </tr>\n",
       "    <tr>\n",
       "      <th>239</th>\n",
       "      <td>75.0</td>\n",
       "      <td>2.0</td>\n",
       "      <td>0.0</td>\n",
       "      <td>1.0</td>\n",
       "      <td>-0.563924</td>\n",
       "      <td>-0.370699</td>\n",
       "      <td>-0.340995</td>\n",
       "      <td>-0.174501</td>\n",
       "    </tr>\n",
       "    <tr>\n",
       "      <th>156</th>\n",
       "      <td>54.0</td>\n",
       "      <td>2.0</td>\n",
       "      <td>1.0</td>\n",
       "      <td>1.0</td>\n",
       "      <td>1.168129</td>\n",
       "      <td>-0.823863</td>\n",
       "      <td>-0.565326</td>\n",
       "      <td>-0.174501</td>\n",
       "    </tr>\n",
       "    <tr>\n",
       "      <th>61</th>\n",
       "      <td>77.0</td>\n",
       "      <td>2.0</td>\n",
       "      <td>0.0</td>\n",
       "      <td>1.0</td>\n",
       "      <td>0.475308</td>\n",
       "      <td>0.008290</td>\n",
       "      <td>0.093781</td>\n",
       "      <td>-0.174501</td>\n",
       "    </tr>\n",
       "    <tr>\n",
       "      <th>242</th>\n",
       "      <td>97.0</td>\n",
       "      <td>2.0</td>\n",
       "      <td>0.0</td>\n",
       "      <td>1.0</td>\n",
       "      <td>0.128897</td>\n",
       "      <td>-0.057772</td>\n",
       "      <td>-0.075915</td>\n",
       "      <td>-0.174501</td>\n",
       "    </tr>\n",
       "    <tr>\n",
       "      <th>...</th>\n",
       "      <td>...</td>\n",
       "      <td>...</td>\n",
       "      <td>...</td>\n",
       "      <td>...</td>\n",
       "      <td>...</td>\n",
       "      <td>...</td>\n",
       "      <td>...</td>\n",
       "      <td>...</td>\n",
       "    </tr>\n",
       "    <tr>\n",
       "      <th>137</th>\n",
       "      <td>20.0</td>\n",
       "      <td>2.0</td>\n",
       "      <td>1.0</td>\n",
       "      <td>1.0</td>\n",
       "      <td>-0.217514</td>\n",
       "      <td>-0.792918</td>\n",
       "      <td>-0.539567</td>\n",
       "      <td>-0.174501</td>\n",
       "    </tr>\n",
       "    <tr>\n",
       "      <th>250</th>\n",
       "      <td>72.0</td>\n",
       "      <td>1.0</td>\n",
       "      <td>0.0</td>\n",
       "      <td>1.0</td>\n",
       "      <td>0.821718</td>\n",
       "      <td>0.692093</td>\n",
       "      <td>-0.026099</td>\n",
       "      <td>-0.174501</td>\n",
       "    </tr>\n",
       "    <tr>\n",
       "      <th>161</th>\n",
       "      <td>52.0</td>\n",
       "      <td>2.0</td>\n",
       "      <td>1.0</td>\n",
       "      <td>1.0</td>\n",
       "      <td>0.128897</td>\n",
       "      <td>-0.788398</td>\n",
       "      <td>-0.359258</td>\n",
       "      <td>-0.174501</td>\n",
       "    </tr>\n",
       "    <tr>\n",
       "      <th>98</th>\n",
       "      <td>71.0</td>\n",
       "      <td>2.0</td>\n",
       "      <td>0.0</td>\n",
       "      <td>1.0</td>\n",
       "      <td>-0.217514</td>\n",
       "      <td>1.272746</td>\n",
       "      <td>0.207427</td>\n",
       "      <td>-0.174501</td>\n",
       "    </tr>\n",
       "    <tr>\n",
       "      <th>133</th>\n",
       "      <td>6.0</td>\n",
       "      <td>2.0</td>\n",
       "      <td>1.0</td>\n",
       "      <td>1.0</td>\n",
       "      <td>0.821718</td>\n",
       "      <td>-0.774027</td>\n",
       "      <td>-0.938823</td>\n",
       "      <td>-0.174501</td>\n",
       "    </tr>\n",
       "  </tbody>\n",
       "</table>\n",
       "<p>255 rows × 8 columns</p>\n",
       "</div>"
      ],
      "text/plain": [
       "     cat_pipp__Car_Name  cat_pipp__Fuel_Type  cat_pipp__Selling_type  \\\n",
       "57                 71.0                  2.0                     0.0   \n",
       "239                75.0                  2.0                     0.0   \n",
       "156                54.0                  2.0                     1.0   \n",
       "61                 77.0                  2.0                     0.0   \n",
       "242                97.0                  2.0                     0.0   \n",
       "..                  ...                  ...                     ...   \n",
       "137                20.0                  2.0                     1.0   \n",
       "250                72.0                  1.0                     0.0   \n",
       "161                52.0                  2.0                     1.0   \n",
       "98                 71.0                  2.0                     0.0   \n",
       "133                 6.0                  2.0                     1.0   \n",
       "\n",
       "     cat_pipp__Transmission  con_pipp__Year  con_pipp__Present_Price  \\\n",
       "57                      1.0       -1.256746                 1.264633   \n",
       "239                     1.0       -0.563924                -0.370699   \n",
       "156                     1.0        1.168129                -0.823863   \n",
       "61                      1.0        0.475308                 0.008290   \n",
       "242                     1.0        0.128897                -0.057772   \n",
       "..                      ...             ...                      ...   \n",
       "137                     1.0       -0.217514                -0.792918   \n",
       "250                     1.0        0.821718                 0.692093   \n",
       "161                     1.0        0.128897                -0.788398   \n",
       "98                      1.0       -0.217514                 1.272746   \n",
       "133                     1.0        0.821718                -0.774027   \n",
       "\n",
       "     con_pipp__Driven_kms  con_pipp__Owner  \n",
       "57               0.336220        -0.174501  \n",
       "239             -0.340995        -0.174501  \n",
       "156             -0.565326        -0.174501  \n",
       "61               0.093781        -0.174501  \n",
       "242             -0.075915        -0.174501  \n",
       "..                    ...              ...  \n",
       "137             -0.539567        -0.174501  \n",
       "250             -0.026099        -0.174501  \n",
       "161             -0.359258        -0.174501  \n",
       "98               0.207427        -0.174501  \n",
       "133             -0.938823        -0.174501  \n",
       "\n",
       "[255 rows x 8 columns]"
      ]
     },
     "execution_count": 56,
     "metadata": {},
     "output_type": "execute_result"
    }
   ],
   "source": [
    "x_train"
   ]
  },
  {
   "cell_type": "code",
   "execution_count": 57,
   "id": "f9d6b59c",
   "metadata": {},
   "outputs": [
    {
     "data": {
      "text/plain": [
       "57      4.75\n",
       "239     2.00\n",
       "156     0.48\n",
       "61      4.50\n",
       "242     4.40\n",
       "       ...  \n",
       "137     0.65\n",
       "250    12.90\n",
       "161     0.45\n",
       "98      7.05\n",
       "133     0.72\n",
       "Name: Selling_Price, Length: 255, dtype: float64"
      ]
     },
     "execution_count": 57,
     "metadata": {},
     "output_type": "execute_result"
    }
   ],
   "source": [
    "y_train"
   ]
  },
  {
   "cell_type": "code",
   "execution_count": null,
   "id": "bb6918df",
   "metadata": {},
   "outputs": [],
   "source": []
  },
  {
   "cell_type": "markdown",
   "id": "b6c7688d",
   "metadata": {},
   "source": [
    "# model"
   ]
  },
  {
   "cell_type": "code",
   "execution_count": 59,
   "id": "389263c6",
   "metadata": {},
   "outputs": [],
   "source": [
    "lr=LinearRegression()"
   ]
  },
  {
   "cell_type": "code",
   "execution_count": 60,
   "id": "48c43457",
   "metadata": {},
   "outputs": [
    {
     "data": {
      "text/html": [
       "<style>#sk-container-id-1 {color: black;}#sk-container-id-1 pre{padding: 0;}#sk-container-id-1 div.sk-toggleable {background-color: white;}#sk-container-id-1 label.sk-toggleable__label {cursor: pointer;display: block;width: 100%;margin-bottom: 0;padding: 0.3em;box-sizing: border-box;text-align: center;}#sk-container-id-1 label.sk-toggleable__label-arrow:before {content: \"▸\";float: left;margin-right: 0.25em;color: #696969;}#sk-container-id-1 label.sk-toggleable__label-arrow:hover:before {color: black;}#sk-container-id-1 div.sk-estimator:hover label.sk-toggleable__label-arrow:before {color: black;}#sk-container-id-1 div.sk-toggleable__content {max-height: 0;max-width: 0;overflow: hidden;text-align: left;background-color: #f0f8ff;}#sk-container-id-1 div.sk-toggleable__content pre {margin: 0.2em;color: black;border-radius: 0.25em;background-color: #f0f8ff;}#sk-container-id-1 input.sk-toggleable__control:checked~div.sk-toggleable__content {max-height: 200px;max-width: 100%;overflow: auto;}#sk-container-id-1 input.sk-toggleable__control:checked~label.sk-toggleable__label-arrow:before {content: \"▾\";}#sk-container-id-1 div.sk-estimator input.sk-toggleable__control:checked~label.sk-toggleable__label {background-color: #d4ebff;}#sk-container-id-1 div.sk-label input.sk-toggleable__control:checked~label.sk-toggleable__label {background-color: #d4ebff;}#sk-container-id-1 input.sk-hidden--visually {border: 0;clip: rect(1px 1px 1px 1px);clip: rect(1px, 1px, 1px, 1px);height: 1px;margin: -1px;overflow: hidden;padding: 0;position: absolute;width: 1px;}#sk-container-id-1 div.sk-estimator {font-family: monospace;background-color: #f0f8ff;border: 1px dotted black;border-radius: 0.25em;box-sizing: border-box;margin-bottom: 0.5em;}#sk-container-id-1 div.sk-estimator:hover {background-color: #d4ebff;}#sk-container-id-1 div.sk-parallel-item::after {content: \"\";width: 100%;border-bottom: 1px solid gray;flex-grow: 1;}#sk-container-id-1 div.sk-label:hover label.sk-toggleable__label {background-color: #d4ebff;}#sk-container-id-1 div.sk-serial::before {content: \"\";position: absolute;border-left: 1px solid gray;box-sizing: border-box;top: 0;bottom: 0;left: 50%;z-index: 0;}#sk-container-id-1 div.sk-serial {display: flex;flex-direction: column;align-items: center;background-color: white;padding-right: 0.2em;padding-left: 0.2em;position: relative;}#sk-container-id-1 div.sk-item {position: relative;z-index: 1;}#sk-container-id-1 div.sk-parallel {display: flex;align-items: stretch;justify-content: center;background-color: white;position: relative;}#sk-container-id-1 div.sk-item::before, #sk-container-id-1 div.sk-parallel-item::before {content: \"\";position: absolute;border-left: 1px solid gray;box-sizing: border-box;top: 0;bottom: 0;left: 50%;z-index: -1;}#sk-container-id-1 div.sk-parallel-item {display: flex;flex-direction: column;z-index: 1;position: relative;background-color: white;}#sk-container-id-1 div.sk-parallel-item:first-child::after {align-self: flex-end;width: 50%;}#sk-container-id-1 div.sk-parallel-item:last-child::after {align-self: flex-start;width: 50%;}#sk-container-id-1 div.sk-parallel-item:only-child::after {width: 0;}#sk-container-id-1 div.sk-dashed-wrapped {border: 1px dashed gray;margin: 0 0.4em 0.5em 0.4em;box-sizing: border-box;padding-bottom: 0.4em;background-color: white;}#sk-container-id-1 div.sk-label label {font-family: monospace;font-weight: bold;display: inline-block;line-height: 1.2em;}#sk-container-id-1 div.sk-label-container {text-align: center;}#sk-container-id-1 div.sk-container {/* jupyter's `normalize.less` sets `[hidden] { display: none; }` but bootstrap.min.css set `[hidden] { display: none !important; }` so we also need the `!important` here to be able to override the default hidden behavior on the sphinx rendered scikit-learn.org. See: https://github.com/scikit-learn/scikit-learn/issues/21755 */display: inline-block !important;position: relative;}#sk-container-id-1 div.sk-text-repr-fallback {display: none;}</style><div id=\"sk-container-id-1\" class=\"sk-top-container\"><div class=\"sk-text-repr-fallback\"><pre>LinearRegression()</pre><b>In a Jupyter environment, please rerun this cell to show the HTML representation or trust the notebook. <br />On GitHub, the HTML representation is unable to render, please try loading this page with nbviewer.org.</b></div><div class=\"sk-container\" hidden><div class=\"sk-item\"><div class=\"sk-estimator sk-toggleable\"><input class=\"sk-toggleable__control sk-hidden--visually\" id=\"sk-estimator-id-1\" type=\"checkbox\" checked><label for=\"sk-estimator-id-1\" class=\"sk-toggleable__label sk-toggleable__label-arrow\">LinearRegression</label><div class=\"sk-toggleable__content\"><pre>LinearRegression()</pre></div></div></div></div></div>"
      ],
      "text/plain": [
       "LinearRegression()"
      ]
     },
     "execution_count": 60,
     "metadata": {},
     "output_type": "execute_result"
    }
   ],
   "source": [
    "lr.fit(x_train,y_train)"
   ]
  },
  {
   "cell_type": "code",
   "execution_count": 61,
   "id": "c6fc32a2",
   "metadata": {},
   "outputs": [
    {
     "data": {
      "text/plain": [
       "9.91741469412176"
      ]
     },
     "execution_count": 61,
     "metadata": {},
     "output_type": "execute_result"
    }
   ],
   "source": [
    "lr.intercept_"
   ]
  },
  {
   "cell_type": "code",
   "execution_count": 62,
   "id": "c4c938b1",
   "metadata": {},
   "outputs": [
    {
     "data": {
      "text/plain": [
       "array([-0.00485259, -1.67877514, -1.35694769, -1.65739909,  1.07603773,\n",
       "        3.78261423, -0.3232298 , -0.17848977])"
      ]
     },
     "execution_count": 62,
     "metadata": {},
     "output_type": "execute_result"
    }
   ],
   "source": [
    "lr.coef_"
   ]
  },
  {
   "cell_type": "markdown",
   "id": "394d1c48",
   "metadata": {},
   "source": [
    "# evaluation on traing"
   ]
  },
  {
   "cell_type": "code",
   "execution_count": 63,
   "id": "e2dbb6b6",
   "metadata": {},
   "outputs": [
    {
     "data": {
      "text/plain": [
       "array([ 7.91171524e+00,  2.67087178e+00,  1.63794768e+00,  5.07245642e+00,\n",
       "        4.40761629e+00,  7.15457257e+00,  7.82928935e+00,  4.41346080e+00,\n",
       "        4.30728330e+00,  1.33109515e+00,  1.11542785e+00,  5.03145942e+00,\n",
       "        9.01069253e+00,  2.34014826e+00,  7.82762418e+00, -1.71647114e+00,\n",
       "        1.13849284e+00,  5.20423353e+00,  1.63051838e+00,  8.46341063e+00,\n",
       "        7.14184479e+00, -2.23462298e+00,  1.09086716e+01,  9.90287502e+00,\n",
       "        3.49165946e+00,  9.53715644e-02,  1.55444619e+01,  1.15036143e+01,\n",
       "        8.51647903e+00,  4.65435688e+00,  2.14864285e+00, -3.02486498e+00,\n",
       "        8.75833990e-01,  7.08467551e+00,  1.03570704e+00, -7.94794888e-01,\n",
       "        1.29570837e+00,  4.88670845e+00,  5.20315116e+00,  2.08612448e+00,\n",
       "        3.99892584e+00,  3.04021668e-01,  1.46149963e+01,  1.93144847e+00,\n",
       "        8.31710419e+00,  6.33311811e-01,  2.60611889e+00,  6.04255832e+00,\n",
       "        8.85729977e-01,  4.25520064e+00,  2.86975851e+00,  2.17313131e+00,\n",
       "        6.56459539e+00, -3.47944124e+00,  2.07250329e+01,  1.52539392e+00,\n",
       "        1.84658982e+00,  7.33300046e+00,  1.12000757e+01,  5.56379038e+00,\n",
       "        8.99077600e+00,  5.21811534e+00,  7.99587455e+00,  3.84754969e+00,\n",
       "        5.00132463e+00,  3.39979328e-01,  4.55421136e+00,  1.53002727e+00,\n",
       "        6.08640097e+00,  2.19302647e+01,  8.20520838e+00,  3.91477876e+00,\n",
       "        1.98212273e+00,  3.24670187e+00,  1.66876341e+00,  8.10166649e+00,\n",
       "        1.65894937e+01,  2.12655247e+00,  4.26062080e+00,  3.64516567e+00,\n",
       "        2.15513213e+00,  5.99838858e+00,  6.22956063e-01,  1.84378715e+01,\n",
       "        4.36589532e-01,  8.46341063e+00,  5.48169585e+00,  4.30385742e+00,\n",
       "        4.04366831e+00,  7.61735271e+00,  9.79577817e-01,  5.77344240e+00,\n",
       "        8.16521491e+00,  7.32007091e+00, -6.54635822e-01,  6.69377981e+00,\n",
       "        5.08735876e+00,  7.54438529e+00,  7.82082769e-01,  1.03791096e+01,\n",
       "        3.58831302e+00,  5.92631645e+00,  4.17428127e+01,  4.83333893e+00,\n",
       "        2.83261014e+00, -3.50700356e-02,  6.68369101e+00,  4.72550177e+00,\n",
       "        1.95074549e+00,  2.34375261e+00,  7.93308440e+00,  3.58843075e+00,\n",
       "        1.30766814e+00,  4.49365840e+00,  4.84997880e+00,  4.71124258e+00,\n",
       "       -4.18305445e-01, -2.27773760e+00,  1.99946734e+00,  2.22756818e+00,\n",
       "        7.85443355e+00,  6.69261418e+00, -4.22319310e-01, -9.79006731e-01,\n",
       "        1.44513185e+01, -1.17416869e-01,  8.01735831e-01,  4.03986041e+00,\n",
       "        6.05691812e-01,  4.66281289e-01,  1.69116497e+01,  7.46974157e+00,\n",
       "        5.62294372e+00,  1.68802493e-01,  8.56128002e-01,  5.60138190e+00,\n",
       "        2.04022373e+01,  9.03661935e+00,  1.25616211e+00,  9.13382810e+00,\n",
       "        6.01221445e+00,  4.20150028e+00,  9.84951251e+00,  8.92751615e+00,\n",
       "        3.08585405e+00,  3.86009987e-01,  2.87613712e-01,  4.23438591e+00,\n",
       "       -1.34075167e-01,  1.77764289e+00,  2.17344910e+00, -8.47706659e-01,\n",
       "        7.36911285e+00, -1.79654053e+00,  4.17509178e+00,  4.47192391e+00,\n",
       "        6.22684910e+00,  4.52378894e-01, -1.03821260e+00,  1.50263833e-01,\n",
       "        7.32893573e+00,  1.28100701e+00,  3.64185800e+00,  1.77639788e+00,\n",
       "        5.10395189e+00,  4.65518946e+00,  5.21657456e+00,  1.03577207e+01,\n",
       "        5.86375983e+00,  3.75105041e+00,  5.21875095e+00,  2.93435050e-01,\n",
       "        1.99436308e+00,  4.55907764e+00,  3.82472892e+00,  7.31494174e+00,\n",
       "        6.13414315e+00,  6.00818963e+00,  6.71466299e+00,  6.36458724e+00,\n",
       "        5.58443049e+00,  7.88312904e+00,  8.29531064e-01,  3.56781597e+00,\n",
       "        6.26868237e+00,  5.69861924e+00, -2.81041102e+00,  8.46292938e-01,\n",
       "        3.22333973e+00,  3.92729519e+00,  1.83237922e+00,  4.50066765e+00,\n",
       "        2.31139530e+00,  6.50293942e+00,  1.26625648e+00,  4.82611245e+00,\n",
       "        1.81291334e-01,  3.49415723e+00,  1.53563642e+00,  5.87700679e+00,\n",
       "        1.32693221e+00, -8.25775921e-01,  9.14390683e+00,  5.00190371e+00,\n",
       "        9.80987538e+00,  2.86837985e+00,  3.61037405e-01,  6.51248709e+00,\n",
       "        1.53299719e+00,  6.22773503e+00,  1.47357855e+00,  1.00832002e+01,\n",
       "        2.49201175e+00,  8.50473557e+00, -3.84028312e+00,  8.99262457e+00,\n",
       "        6.81218207e+00,  2.98604500e+00,  4.38919998e+00,  4.80456906e+00,\n",
       "        7.23594426e+00,  1.70788072e+01,  3.53565022e+00,  1.69718563e+00,\n",
       "        6.45604889e-01,  2.43497905e+00,  4.27453362e+00, -2.84739544e+00,\n",
       "        2.65678040e+00,  3.02695191e+00,  6.47371510e+00,  1.58409642e+00,\n",
       "        5.22466987e+00,  3.65736234e+00, -7.23704066e-02,  4.13182962e+00,\n",
       "        5.64704932e+00,  9.25429254e+00,  9.01613588e-01,  1.40845802e+00,\n",
       "        3.76534180e-01, -3.79769414e-01,  1.70108169e+00,  7.70003818e+00,\n",
       "        6.67685117e+00,  5.94158248e+00, -1.25080481e+00,  7.24089803e+00,\n",
       "        9.86600215e+00,  4.23355079e+00,  4.20658958e-01,  9.77355719e+00,\n",
       "        5.96943329e-01,  9.10228568e+00,  1.80735883e+00])"
      ]
     },
     "execution_count": 63,
     "metadata": {},
     "output_type": "execute_result"
    }
   ],
   "source": [
    "y_pred_train=lr.predict(x_train)\n",
    "y_pred_train"
   ]
  },
  {
   "cell_type": "code",
   "execution_count": 65,
   "id": "5b4446c2",
   "metadata": {},
   "outputs": [
    {
     "name": "stdout",
     "output_type": "stream",
     "text": [
      "MAE= 1.2150081833921518\n",
      "MSE= 3.261703610394255\n",
      "RSME= 1.806018718173833\n",
      "R2= 0.8570444840933631\n"
     ]
    }
   ],
   "source": [
    "mae=mean_absolute_error(y_pred_train,y_train)\n",
    "print('MAE=',mae)\n",
    "\n",
    "mse=mean_squared_error(y_pred_train,y_train)\n",
    "print('MSE=',mse)\n",
    "\n",
    "rmse=mse**0.5\n",
    "print('RSME=',rmse)\n",
    "\n",
    "r=r2_score(y_pred_train,y_train)\n",
    "print('R2=',r)"
   ]
  },
  {
   "cell_type": "code",
   "execution_count": 66,
   "id": "25b60d43",
   "metadata": {},
   "outputs": [
    {
     "data": {
      "text/plain": [
       "Text(0, 0.5, 'y_pred_train')"
      ]
     },
     "execution_count": 66,
     "metadata": {},
     "output_type": "execute_result"
    },
    {
     "data": {
      "image/png": "[encoded data removed]",
      "text/plain": [
       "<Figure size 432x288 with 1 Axes>"
      ]
     },
     "metadata": {
      "needs_background": "light"
     },
     "output_type": "display_data"
    }
   ],
   "source": [
    "# Plotting y_test and y_test_pred to understand the spread.\n",
    "fig = plt.figure()\n",
    "plt.scatter(y_train,y_pred_train)\n",
    "fig.suptitle('y_train vs y_pred_train', fontsize=20)               \n",
    "plt.xlabel('y_train', fontsize=18)                         \n",
    "plt.ylabel('y_pred_train', fontsize=16)  "
   ]
  },
  {
   "cell_type": "markdown",
   "id": "1674dad0",
   "metadata": {},
   "source": [
    "# evaluation on testing"
   ]
  },
  {
   "cell_type": "code",
   "execution_count": 67,
   "id": "d4ffcbcf",
   "metadata": {},
   "outputs": [
    {
     "data": {
      "text/plain": [
       "array([ 7.49544371,  6.63178254,  4.43124739,  6.30076978,  4.06080909,\n",
       "        7.85849301,  1.59971535,  4.50243389,  5.99224797,  4.287652  ,\n",
       "       -0.26175975,  5.70505078,  2.67439567,  3.30927668,  7.96858895,\n",
       "        1.0872744 ,  6.59847896,  2.33382707,  1.99805562,  0.93701117,\n",
       "       20.09417922, 10.45163354,  1.80628446,  1.56364299,  2.18400114,\n",
       "        4.8843938 ,  6.51898129,  6.36925539,  5.19610119, 16.78087492,\n",
       "       10.30437637,  2.9008572 , -2.31469499,  8.0842101 ,  0.08836623,\n",
       "       18.43787147,  6.80055065,  4.37260789,  7.34816377,  3.33075089,\n",
       "        8.24596092,  0.70183203,  1.62122253,  7.75269113,  1.69896707,\n",
       "       -0.45442607])"
      ]
     },
     "execution_count": 67,
     "metadata": {},
     "output_type": "execute_result"
    }
   ],
   "source": [
    "y_pred_test=lr.predict(x_test)\n",
    "y_pred_test"
   ]
  },
  {
   "cell_type": "code",
   "execution_count": 68,
   "id": "55bb706f",
   "metadata": {
    "scrolled": true
   },
   "outputs": [
    {
     "name": "stdout",
     "output_type": "stream",
     "text": [
      "MAE= 1.075151343062582\n",
      "MSE= 2.519555188089284\n",
      "RSME= 1.587310677872887\n",
      "R2= 0.8790296030589109\n"
     ]
    }
   ],
   "source": [
    "mae1=mean_absolute_error(y_pred_test,y_test)\n",
    "print('MAE=',mae1)\n",
    "\n",
    "mse1=mean_squared_error(y_pred_test,y_test)\n",
    "print('MSE=',mse1)\n",
    "\n",
    "rmse1=mse1**0.5\n",
    "print('RSME=',rmse1)\n",
    "\n",
    "r1=r2_score(y_pred_test,y_test)\n",
    "print('R2=',r1)"
   ]
  },
  {
   "cell_type": "code",
   "execution_count": 69,
   "id": "78408e35",
   "metadata": {
    "scrolled": true
   },
   "outputs": [
    {
     "data": {
      "text/plain": [
       "Text(0, 0.5, 'y_test_pred')"
      ]
     },
     "execution_count": 69,
     "metadata": {},
     "output_type": "execute_result"
    },
    {
     "data": {
      "image/png": "[encoded data removed]",
      "text/plain": [
       "<Figure size 432x288 with 1 Axes>"
      ]
     },
     "metadata": {
      "needs_background": "light"
     },
     "output_type": "display_data"
    }
   ],
   "source": [
    "# Plotting y_test and y_test_pred to understand \n",
    "fig = plt.figure()\n",
    "plt.scatter(y_test,y_pred_test)\n",
    "fig.suptitle('y_test vs y_test_pred', fontsize=20)               \n",
    "plt.xlabel('y_test', fontsize=18)                         \n",
    "plt.ylabel('y_test_pred', fontsize=16)  "
   ]
  },
  {
   "cell_type": "code",
   "execution_count": null,
   "id": "ff4fa9da",
   "metadata": {},
   "outputs": [],
   "source": []
  },
  {
   "cell_type": "code",
   "execution_count": 70,
   "id": "050bf090",
   "metadata": {},
   "outputs": [
    {
     "name": "stdout",
     "output_type": "stream",
     "text": [
      "    Predicted Car Price\n",
      "0              7.495444\n",
      "1              6.631783\n",
      "2              4.431247\n",
      "3              6.300770\n",
      "4              4.060809\n",
      "5              7.858493\n",
      "6              1.599715\n",
      "7              4.502434\n",
      "8              5.992248\n",
      "9              4.287652\n",
      "10            -0.261760\n",
      "11             5.705051\n",
      "12             2.674396\n",
      "13             3.309277\n",
      "14             7.968589\n",
      "15             1.087274\n",
      "16             6.598479\n",
      "17             2.333827\n",
      "18             1.998056\n",
      "19             0.937011\n",
      "20            20.094179\n",
      "21            10.451634\n",
      "22             1.806284\n",
      "23             1.563643\n",
      "24             2.184001\n",
      "25             4.884394\n",
      "26             6.518981\n",
      "27             6.369255\n",
      "28             5.196101\n",
      "29            16.780875\n",
      "30            10.304376\n",
      "31             2.900857\n",
      "32            -2.314695\n",
      "33             8.084210\n",
      "34             0.088366\n",
      "35            18.437871\n",
      "36             6.800551\n",
      "37             4.372608\n",
      "38             7.348164\n",
      "39             3.330751\n",
      "40             8.245961\n",
      "41             0.701832\n",
      "42             1.621223\n",
      "43             7.752691\n",
      "44             1.698967\n",
      "45            -0.454426\n"
     ]
    }
   ],
   "source": [
    "data = pd.DataFrame(data={\"Predicted Car Price\": y_pred_test.flatten()})\n",
    "print(data)"
   ]
  },
  {
   "cell_type": "code",
   "execution_count": null,
   "id": "4bf11ddc",
   "metadata": {},
   "outputs": [],
   "source": []
  },
  {
   "cell_type": "code",
   "execution_count": null,
   "id": "6b2ac425",
   "metadata": {},
   "outputs": [],
   "source": []
  },
  {
   "cell_type": "code",
   "execution_count": null,
   "id": "71639b27",
   "metadata": {},
   "outputs": [],
   "source": []
  },
  {
   "cell_type": "code",
   "execution_count": 71,
   "id": "ad4d9d7e",
   "metadata": {
    "scrolled": true
   },
   "outputs": [
    {
     "data": {
      "text/plain": [
       "array(['ritz', 'sx4', 'ciaz', 'wagon r', 'swift', 'vitara brezza', 'ciaz',\n",
       "       's cross', 'ciaz', 'ciaz', 'alto 800', 'ciaz', 'ciaz', 'ertiga',\n",
       "       'dzire', 'ertiga', 'ertiga', 'ertiga', 'wagon r', 'sx4',\n",
       "       'alto k10', 'ignis', 'sx4', 'alto k10', 'wagon r', 'swift',\n",
       "       'swift', 'swift', 'alto k10', 'ciaz', 'ritz', 'ritz', 'swift',\n",
       "       'ertiga', 'dzire', 'sx4', 'dzire', '800', 'alto k10', 'sx4',\n",
       "       'baleno', 'alto k10', 'sx4', 'dzire', 'omni', 'ciaz', 'ritz',\n",
       "       'wagon r', 'ertiga', 'ciaz', 'fortuner', 'fortuner', 'innova',\n",
       "       'fortuner', 'innova', 'corolla altis', 'etios cross',\n",
       "       'corolla altis', 'etios g', 'fortuner', 'corolla altis',\n",
       "       'etios cross', 'fortuner', 'fortuner', 'fortuner', 'etios liva',\n",
       "       'innova', 'fortuner', 'corolla altis', 'corolla altis',\n",
       "       'etios liva', 'corolla altis', 'corolla altis', 'etios liva',\n",
       "       'etios cross', 'etios g', 'corolla altis', 'corolla',\n",
       "       'corolla altis', 'fortuner', 'corolla altis', 'etios gd', 'innova',\n",
       "       'innova', 'innova', 'camry', 'land cruiser', 'corolla altis',\n",
       "       'etios liva', 'etios g', 'corolla altis', 'innova', 'innova',\n",
       "       'fortuner', 'corolla altis', 'corolla altis', 'innova',\n",
       "       'corolla altis', 'corolla altis', 'fortuner',\n",
       "       'Royal Enfield Thunder 500', 'UM Renegade Mojave', 'KTM RC200',\n",
       "       'Bajaj Dominar 400', 'Royal Enfield Classic 350', 'KTM RC390',\n",
       "       'Hyosung GT250R', 'Royal Enfield Thunder 350',\n",
       "       'Royal Enfield Thunder 350', 'Royal Enfield Classic 350',\n",
       "       'KTM RC200', 'Royal Enfield Thunder 350', 'KTM 390 Duke ',\n",
       "       'Mahindra Mojo XT300', 'Royal Enfield Classic 350',\n",
       "       'Royal Enfield Classic 350', 'Royal Enfield Classic 350',\n",
       "       'Royal Enfield Thunder 500', 'Royal Enfield Classic 350',\n",
       "       'Royal Enfield Thunder 500', 'Bajaj Pulsar RS200',\n",
       "       'Royal Enfield Thunder 350', 'Royal Enfield Bullet 350',\n",
       "       'Royal Enfield Classic 350', 'Royal Enfield Classic 500',\n",
       "       'Royal Enfield Classic 500', 'Bajaj Avenger 220',\n",
       "       'Bajaj Avenger 150', 'Honda CB Hornet 160R', 'Yamaha FZ S V 2.0',\n",
       "       'Honda CB Hornet 160R', 'Yamaha FZ 16', 'Bajaj Avenger 220',\n",
       "       'Bajaj Avenger 220', 'TVS Apache RTR 160', 'Bajaj Pulsar 150',\n",
       "       'Honda CBR 150', 'Hero Extreme', 'Honda CB Hornet 160R',\n",
       "       'Bajaj Avenger 220 dtsi', 'Honda CBR 150',\n",
       "       'Bajaj Avenger 150 street', 'Yamaha FZ  v 2.0', 'Yamaha FZ  v 2.0',\n",
       "       'Bajaj Pulsar  NS 200', 'TVS Apache RTR 160', 'Hero Extreme',\n",
       "       'Yamaha FZ S V 2.0', 'Bajaj Pulsar 220 F', 'Bajaj Pulsar 220 F',\n",
       "       'TVS Apache RTR 180', 'Hero Passion X pro', 'Bajaj Pulsar NS 200',\n",
       "       'Bajaj Pulsar NS 200', 'Yamaha Fazer ', 'Honda Activa 4G',\n",
       "       'TVS Sport ', 'Yamaha FZ S V 2.0', 'Honda Dream Yuga ',\n",
       "       'Honda Activa 4G', 'Bajaj Avenger Street 220',\n",
       "       'TVS Apache RTR 180', 'Bajaj Pulsar NS 200',\n",
       "       'Bajaj Avenger 220 dtsi', 'Hero Splender iSmart', 'Activa 3g',\n",
       "       'Hero Passion Pro', 'TVS Apache RTR 160', 'Honda CB Trigger',\n",
       "       'Hero Splender iSmart', 'Yamaha FZ S ', 'Hero Passion Pro',\n",
       "       'Bajaj Pulsar 135 LS', 'Activa 4g', 'Honda CB Unicorn',\n",
       "       'Hero Honda CBZ extreme', 'Honda Karizma', 'Honda Activa 125',\n",
       "       'TVS Jupyter', 'Honda Karizma', 'Hero Honda Passion Pro',\n",
       "       'Hero Splender Plus', 'Honda CB Shine', 'Bajaj Discover 100',\n",
       "       'Bajaj Pulsar 150', 'Suzuki Access 125', 'TVS Wego',\n",
       "       'Honda CB twister', 'Hero Glamour', 'Hero Super Splendor',\n",
       "       'Bajaj Pulsar 150', 'Bajaj Discover 125', 'Hero Hunk',\n",
       "       'Hero  Ignitor Disc', 'Hero  CBZ Xtreme', 'Bajaj  ct 100',\n",
       "       'Activa 3g', 'Honda CB twister', 'Bajaj Discover 125',\n",
       "       'Honda CB Shine', 'Bajaj Pulsar 150', 'i20', 'grand i10', 'i10',\n",
       "       'eon', 'grand i10', 'xcent', 'grand i10', 'i20', 'grand i10',\n",
       "       'i10', 'elantra', 'creta', 'i20', 'grand i10', 'verna', 'eon',\n",
       "       'eon', 'verna', 'verna', 'eon', 'i20', 'i20', 'verna', 'verna',\n",
       "       'i10', 'grand i10', 'i10', 'verna', 'i20', 'verna', 'verna',\n",
       "       'elantra', 'grand i10', 'grand i10', 'verna', 'eon', 'creta',\n",
       "       'verna', 'eon', 'verna', 'xcent', 'xcent', 'i20', 'verna', 'verna',\n",
       "       'i20', 'verna', 'i10', 'i20', 'creta', 'city', 'brio', 'city',\n",
       "       'city', 'brio', 'city', 'city', 'city', 'amaze', 'city', 'brio',\n",
       "       'amaze', 'jazz', 'amaze', 'jazz', 'amaze', 'city', 'brio', 'city',\n",
       "       'city', 'city', 'city', 'jazz', 'brio', 'city', 'city', 'city',\n",
       "       'jazz', 'city', 'brio', 'city', 'city', 'city', 'brio', 'jazz',\n",
       "       'jazz', 'amaze', 'city', 'city', 'amaze', 'brio', 'jazz', 'city',\n",
       "       'amaze', 'city', 'city', 'brio', 'city', 'city', 'brio'],\n",
       "      dtype=object)"
      ]
     },
     "execution_count": 71,
     "metadata": {},
     "output_type": "execute_result"
    }
   ],
   "source": [
    "df['Car_Name'].values"
   ]
  },
  {
   "cell_type": "code",
   "execution_count": null,
   "id": "fecd2353",
   "metadata": {},
   "outputs": [],
   "source": []
  },
  {
   "cell_type": "code",
   "execution_count": 99,
   "id": "052a2ef0",
   "metadata": {},
   "outputs": [],
   "source": [
    "import pandas as pd\n",
    "import numpy as np\n",
    "\n",
    "# car_name = str(input('Enter car name: '))         \n",
    "# year = int(input('Year of manufacture: '))          \n",
    "# Present_price = float(input( 'Enter car present price: '))\n",
    "# driven_km = int(input('Year of driven km: '))\n",
    "# fuel_type = str(input('Enter car fuel type: '))\n",
    "# selling_type = str(input('Year of selling type: '))\n",
    "# transmission = str(input('Enter transmission type: '))\n",
    "# owner = int(input('Year of ownership: '))\n",
    "\n",
    "# Create a dictionary with the user inputs\n",
    "def predict_selling_price(car_name, year, present_price, driven_km, fuel_type, selling_type, transmission, owner,processor,model):\n",
    "    car_data = {\n",
    "        'Car_Name': [car_name],\n",
    "        'Year': [year],\n",
    "        'Present_Price': [Present_price],  # Assuming Present_Price is the same as Selling_Price for simplicity\n",
    "        'Driven_kms': [driven_km],\n",
    "        'Fuel_Type': [fuel_type],\n",
    "        'Selling_type': [selling_type],\n",
    "        'Transmission': [transmission],\n",
    "        'Owner': [owner]\n",
    "        }\n",
    "\n",
    "# Create a DataFrame from the dictionary\n",
    "    df3 = pd.DataFrame(car_data)\n",
    "\n",
    "# transforming the data\n",
    "    preth=pd.DataFrame(processor.transform(df3),columns=processor.get_feature_names_out())\n",
    "\n",
    "#prediction of the Selling price\n",
    "\n",
    "    predition=model.predict(preth)\n",
    "    prediction = np.round(predition, 2)\n",
    "\n",
    "# Adding the col. to the data\n",
    "    df3[['Selling_price']]=prediction\n",
    "\n",
    "#print the data\n",
    "    return df3"
   ]
  },
  {
   "cell_type": "code",
   "execution_count": 101,
   "id": "f9983ce4",
   "metadata": {
    "scrolled": false
   },
   "outputs": [
    {
     "data": {
      "text/html": [
       "<div>\n",
       "<style scoped>\n",
       "    .dataframe tbody tr th:only-of-type {\n",
       "        vertical-align: middle;\n",
       "    }\n",
       "\n",
       "    .dataframe tbody tr th {\n",
       "        vertical-align: top;\n",
       "    }\n",
       "\n",
       "    .dataframe thead th {\n",
       "        text-align: right;\n",
       "    }\n",
       "</style>\n",
       "<table border=\"1\" class=\"dataframe\">\n",
       "  <thead>\n",
       "    <tr style=\"text-align: right;\">\n",
       "      <th></th>\n",
       "      <th>Car_Name</th>\n",
       "      <th>Year</th>\n",
       "      <th>Present_Price</th>\n",
       "      <th>Driven_kms</th>\n",
       "      <th>Fuel_Type</th>\n",
       "      <th>Selling_type</th>\n",
       "      <th>Transmission</th>\n",
       "      <th>Owner</th>\n",
       "      <th>Selling_price</th>\n",
       "    </tr>\n",
       "  </thead>\n",
       "  <tbody>\n",
       "    <tr>\n",
       "      <th>0</th>\n",
       "      <td>city</td>\n",
       "      <td>2014</td>\n",
       "      <td>6.39</td>\n",
       "      <td>54221</td>\n",
       "      <td>Petrol</td>\n",
       "      <td>Dealer</td>\n",
       "      <td>Automatic</td>\n",
       "      <td>0</td>\n",
       "      <td>5.71</td>\n",
       "    </tr>\n",
       "  </tbody>\n",
       "</table>\n",
       "</div>"
      ],
      "text/plain": [
       "  Car_Name  Year  Present_Price  Driven_kms Fuel_Type Selling_type  \\\n",
       "0     city  2014           6.39       54221    Petrol       Dealer   \n",
       "\n",
       "  Transmission  Owner  Selling_price  \n",
       "0    Automatic      0           5.71  "
      ]
     },
     "execution_count": 101,
     "metadata": {},
     "output_type": "execute_result"
    }
   ],
   "source": [
    "predict_selling_price('city',2014,6.54,54221,'Petrol','Dealer','Automatic',0,pre,lr)"
   ]
  },
  {
   "cell_type": "code",
   "execution_count": 102,
   "id": "7518480d",
   "metadata": {},
   "outputs": [
    {
     "data": {
      "text/html": [
       "<div>\n",
       "<style scoped>\n",
       "    .dataframe tbody tr th:only-of-type {\n",
       "        vertical-align: middle;\n",
       "    }\n",
       "\n",
       "    .dataframe tbody tr th {\n",
       "        vertical-align: top;\n",
       "    }\n",
       "\n",
       "    .dataframe thead th {\n",
       "        text-align: right;\n",
       "    }\n",
       "</style>\n",
       "<table border=\"1\" class=\"dataframe\">\n",
       "  <thead>\n",
       "    <tr style=\"text-align: right;\">\n",
       "      <th></th>\n",
       "      <th>Car_Name</th>\n",
       "      <th>Year</th>\n",
       "      <th>Present_Price</th>\n",
       "      <th>Driven_kms</th>\n",
       "      <th>Fuel_Type</th>\n",
       "      <th>Selling_type</th>\n",
       "      <th>Transmission</th>\n",
       "      <th>Owner</th>\n",
       "      <th>Selling_price</th>\n",
       "    </tr>\n",
       "  </thead>\n",
       "  <tbody>\n",
       "    <tr>\n",
       "      <th>0</th>\n",
       "      <td>i10</td>\n",
       "      <td>2016</td>\n",
       "      <td>6.39</td>\n",
       "      <td>34221</td>\n",
       "      <td>Petrol</td>\n",
       "      <td>Dealer</td>\n",
       "      <td>Manual</td>\n",
       "      <td>0</td>\n",
       "      <td>4.89</td>\n",
       "    </tr>\n",
       "  </tbody>\n",
       "</table>\n",
       "</div>"
      ],
      "text/plain": [
       "  Car_Name  Year  Present_Price  Driven_kms Fuel_Type Selling_type  \\\n",
       "0      i10  2016           6.39       34221    Petrol       Dealer   \n",
       "\n",
       "  Transmission  Owner  Selling_price  \n",
       "0       Manual      0           4.89  "
      ]
     },
     "execution_count": 102,
     "metadata": {},
     "output_type": "execute_result"
    }
   ],
   "source": [
    "predict_selling_price('i10',2016,7.54,34221,'Petrol','Dealer','Manual',0,pre,lr)"
   ]
  },
  {
   "cell_type": "code",
   "execution_count": null,
   "id": "5ce72ec9",
   "metadata": {},
   "outputs": [],
   "source": []
  }
 ],
 "metadata": {
  "kernelspec": {
   "display_name": "Python 3",
   "language": "python",
   "name": "python3"
  },
  "language_info": {
   "codemirror_mode": {
    "name": "ipython",
    "version": 3
   },
   "file_extension": ".py",
   "mimetype": "text/x-python",
   "name": "python",
   "nbconvert_exporter": "python",
   "pygments_lexer": "ipython3",
   "version": "3.8.8"
  }
 },
 "nbformat": 4,
 "nbformat_minor": 5
}
